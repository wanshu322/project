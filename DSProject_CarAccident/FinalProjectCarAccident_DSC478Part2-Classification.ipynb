{
 "cells": [
  {
   "cell_type": "markdown",
   "id": "a29af7cc",
   "metadata": {},
   "source": [
    "# Final Project\n",
    "## Name: Accidents Severity Analysis and Prediction"
   ]
  },
  {
   "cell_type": "markdown",
   "id": "52d318a6",
   "metadata": {},
   "source": [
    "Project Type (Analysis)  DSC 478\n",
    "Team Members: Di Han, Wanshu Wang"
   ]
  },
  {
   "cell_type": "markdown",
   "id": "12fe155b",
   "metadata": {},
   "source": [
    "# Classification "
   ]
  },
  {
   "cell_type": "code",
   "execution_count": null,
   "id": "2325af73",
   "metadata": {},
   "outputs": [],
   "source": [
    "import numpy as np\n",
    "import pandas as pd\n",
    "import seaborn as sns\n",
    "import matplotlib.pyplot as plt"
   ]
  },
  {
   "cell_type": "code",
   "execution_count": null,
   "id": "185e653a",
   "metadata": {},
   "outputs": [],
   "source": [
    "%pwd"
   ]
  },
  {
   "cell_type": "code",
   "execution_count": 3,
   "id": "385900f1",
   "metadata": {},
   "outputs": [],
   "source": [
    "df_balanced = pd.read_csv(\"data_balanced.csv\")"
   ]
  },
  {
   "cell_type": "code",
   "execution_count": 106,
   "id": "ea62925d",
   "metadata": {},
   "outputs": [],
   "source": [
    "df_cleaned = pd.read_csv(\"data_unbalanced.csv\")"
   ]
  },
  {
   "cell_type": "code",
   "execution_count": 109,
   "id": "3aeb8951",
   "metadata": {},
   "outputs": [
    {
     "data": {
      "text/plain": [
       "(1516064, 55)"
      ]
     },
     "execution_count": 109,
     "metadata": {},
     "output_type": "execute_result"
    }
   ],
   "source": [
    "df_numeric = df_cleaned\n",
    "df_numeric.shape"
   ]
  },
  {
   "cell_type": "code",
   "execution_count": 110,
   "id": "2fbe9208",
   "metadata": {},
   "outputs": [
    {
     "data": {
      "text/html": [
       "<div>\n",
       "<style scoped>\n",
       "    .dataframe tbody tr th:only-of-type {\n",
       "        vertical-align: middle;\n",
       "    }\n",
       "\n",
       "    .dataframe tbody tr th {\n",
       "        vertical-align: top;\n",
       "    }\n",
       "\n",
       "    .dataframe thead th {\n",
       "        text-align: right;\n",
       "    }\n",
       "</style>\n",
       "<table border=\"1\" class=\"dataframe\">\n",
       "  <thead>\n",
       "    <tr style=\"text-align: right;\">\n",
       "      <th></th>\n",
       "      <th>Unnamed: 0</th>\n",
       "      <th>Severity</th>\n",
       "      <th>Distance(mi)</th>\n",
       "      <th>Temperature(F)</th>\n",
       "      <th>Humidity(%)</th>\n",
       "      <th>Pressure(in)</th>\n",
       "      <th>Visibility(mi)</th>\n",
       "      <th>Wind_Speed(mph)</th>\n",
       "      <th>Amenity</th>\n",
       "      <th>Bump</th>\n",
       "      <th>...</th>\n",
       "      <th>Weather_Condition_Cloudy</th>\n",
       "      <th>Weather_Condition_Fog</th>\n",
       "      <th>Weather_Condition_Hail</th>\n",
       "      <th>Weather_Condition_Rain</th>\n",
       "      <th>Weather_Condition_Sand</th>\n",
       "      <th>Weather_Condition_Smoke</th>\n",
       "      <th>Weather_Condition_Snow</th>\n",
       "      <th>Weather_Condition_Thunderstorm</th>\n",
       "      <th>Weather_Condition_Tornado</th>\n",
       "      <th>Weather_Condition_Windy</th>\n",
       "    </tr>\n",
       "  </thead>\n",
       "  <tbody>\n",
       "    <tr>\n",
       "      <td>0</td>\n",
       "      <td>0</td>\n",
       "      <td>3</td>\n",
       "      <td>3.230</td>\n",
       "      <td>42.1</td>\n",
       "      <td>58.0</td>\n",
       "      <td>29.76</td>\n",
       "      <td>10.0</td>\n",
       "      <td>10.400000</td>\n",
       "      <td>1</td>\n",
       "      <td>1</td>\n",
       "      <td>...</td>\n",
       "      <td>0</td>\n",
       "      <td>0</td>\n",
       "      <td>0</td>\n",
       "      <td>1</td>\n",
       "      <td>0</td>\n",
       "      <td>0</td>\n",
       "      <td>0</td>\n",
       "      <td>0</td>\n",
       "      <td>0</td>\n",
       "      <td>0</td>\n",
       "    </tr>\n",
       "    <tr>\n",
       "      <td>1</td>\n",
       "      <td>1</td>\n",
       "      <td>2</td>\n",
       "      <td>0.747</td>\n",
       "      <td>36.9</td>\n",
       "      <td>91.0</td>\n",
       "      <td>29.68</td>\n",
       "      <td>10.0</td>\n",
       "      <td>9.863415</td>\n",
       "      <td>1</td>\n",
       "      <td>1</td>\n",
       "      <td>...</td>\n",
       "      <td>0</td>\n",
       "      <td>0</td>\n",
       "      <td>0</td>\n",
       "      <td>1</td>\n",
       "      <td>0</td>\n",
       "      <td>0</td>\n",
       "      <td>0</td>\n",
       "      <td>0</td>\n",
       "      <td>0</td>\n",
       "      <td>0</td>\n",
       "    </tr>\n",
       "    <tr>\n",
       "      <td>2</td>\n",
       "      <td>2</td>\n",
       "      <td>2</td>\n",
       "      <td>0.055</td>\n",
       "      <td>36.0</td>\n",
       "      <td>97.0</td>\n",
       "      <td>29.70</td>\n",
       "      <td>10.0</td>\n",
       "      <td>9.166000</td>\n",
       "      <td>1</td>\n",
       "      <td>1</td>\n",
       "      <td>...</td>\n",
       "      <td>1</td>\n",
       "      <td>0</td>\n",
       "      <td>0</td>\n",
       "      <td>0</td>\n",
       "      <td>0</td>\n",
       "      <td>0</td>\n",
       "      <td>0</td>\n",
       "      <td>0</td>\n",
       "      <td>0</td>\n",
       "      <td>0</td>\n",
       "    </tr>\n",
       "    <tr>\n",
       "      <td>3</td>\n",
       "      <td>3</td>\n",
       "      <td>2</td>\n",
       "      <td>0.219</td>\n",
       "      <td>36.0</td>\n",
       "      <td>97.0</td>\n",
       "      <td>29.70</td>\n",
       "      <td>10.0</td>\n",
       "      <td>9.166000</td>\n",
       "      <td>1</td>\n",
       "      <td>1</td>\n",
       "      <td>...</td>\n",
       "      <td>1</td>\n",
       "      <td>0</td>\n",
       "      <td>0</td>\n",
       "      <td>0</td>\n",
       "      <td>0</td>\n",
       "      <td>0</td>\n",
       "      <td>0</td>\n",
       "      <td>0</td>\n",
       "      <td>0</td>\n",
       "      <td>0</td>\n",
       "    </tr>\n",
       "    <tr>\n",
       "      <td>4</td>\n",
       "      <td>4</td>\n",
       "      <td>2</td>\n",
       "      <td>0.123</td>\n",
       "      <td>39.0</td>\n",
       "      <td>55.0</td>\n",
       "      <td>29.65</td>\n",
       "      <td>10.0</td>\n",
       "      <td>10.397143</td>\n",
       "      <td>1</td>\n",
       "      <td>1</td>\n",
       "      <td>...</td>\n",
       "      <td>1</td>\n",
       "      <td>0</td>\n",
       "      <td>0</td>\n",
       "      <td>0</td>\n",
       "      <td>0</td>\n",
       "      <td>0</td>\n",
       "      <td>0</td>\n",
       "      <td>0</td>\n",
       "      <td>0</td>\n",
       "      <td>0</td>\n",
       "    </tr>\n",
       "    <tr>\n",
       "      <td>...</td>\n",
       "      <td>...</td>\n",
       "      <td>...</td>\n",
       "      <td>...</td>\n",
       "      <td>...</td>\n",
       "      <td>...</td>\n",
       "      <td>...</td>\n",
       "      <td>...</td>\n",
       "      <td>...</td>\n",
       "      <td>...</td>\n",
       "      <td>...</td>\n",
       "      <td>...</td>\n",
       "      <td>...</td>\n",
       "      <td>...</td>\n",
       "      <td>...</td>\n",
       "      <td>...</td>\n",
       "      <td>...</td>\n",
       "      <td>...</td>\n",
       "      <td>...</td>\n",
       "      <td>...</td>\n",
       "      <td>...</td>\n",
       "      <td>...</td>\n",
       "    </tr>\n",
       "    <tr>\n",
       "      <td>1516059</td>\n",
       "      <td>1516059</td>\n",
       "      <td>2</td>\n",
       "      <td>0.543</td>\n",
       "      <td>86.0</td>\n",
       "      <td>40.0</td>\n",
       "      <td>28.92</td>\n",
       "      <td>10.0</td>\n",
       "      <td>13.000000</td>\n",
       "      <td>1</td>\n",
       "      <td>1</td>\n",
       "      <td>...</td>\n",
       "      <td>0</td>\n",
       "      <td>0</td>\n",
       "      <td>0</td>\n",
       "      <td>0</td>\n",
       "      <td>0</td>\n",
       "      <td>0</td>\n",
       "      <td>0</td>\n",
       "      <td>0</td>\n",
       "      <td>0</td>\n",
       "      <td>0</td>\n",
       "    </tr>\n",
       "    <tr>\n",
       "      <td>1516060</td>\n",
       "      <td>1516060</td>\n",
       "      <td>2</td>\n",
       "      <td>0.338</td>\n",
       "      <td>70.0</td>\n",
       "      <td>73.0</td>\n",
       "      <td>29.39</td>\n",
       "      <td>10.0</td>\n",
       "      <td>6.000000</td>\n",
       "      <td>1</td>\n",
       "      <td>1</td>\n",
       "      <td>...</td>\n",
       "      <td>0</td>\n",
       "      <td>0</td>\n",
       "      <td>0</td>\n",
       "      <td>0</td>\n",
       "      <td>0</td>\n",
       "      <td>0</td>\n",
       "      <td>0</td>\n",
       "      <td>0</td>\n",
       "      <td>0</td>\n",
       "      <td>0</td>\n",
       "    </tr>\n",
       "    <tr>\n",
       "      <td>1516061</td>\n",
       "      <td>1516061</td>\n",
       "      <td>2</td>\n",
       "      <td>0.561</td>\n",
       "      <td>73.0</td>\n",
       "      <td>64.0</td>\n",
       "      <td>29.74</td>\n",
       "      <td>10.0</td>\n",
       "      <td>10.000000</td>\n",
       "      <td>1</td>\n",
       "      <td>1</td>\n",
       "      <td>...</td>\n",
       "      <td>1</td>\n",
       "      <td>0</td>\n",
       "      <td>0</td>\n",
       "      <td>0</td>\n",
       "      <td>0</td>\n",
       "      <td>0</td>\n",
       "      <td>0</td>\n",
       "      <td>0</td>\n",
       "      <td>0</td>\n",
       "      <td>0</td>\n",
       "    </tr>\n",
       "    <tr>\n",
       "      <td>1516062</td>\n",
       "      <td>1516062</td>\n",
       "      <td>2</td>\n",
       "      <td>0.772</td>\n",
       "      <td>71.0</td>\n",
       "      <td>81.0</td>\n",
       "      <td>29.62</td>\n",
       "      <td>10.0</td>\n",
       "      <td>8.000000</td>\n",
       "      <td>1</td>\n",
       "      <td>1</td>\n",
       "      <td>...</td>\n",
       "      <td>0</td>\n",
       "      <td>0</td>\n",
       "      <td>0</td>\n",
       "      <td>0</td>\n",
       "      <td>0</td>\n",
       "      <td>0</td>\n",
       "      <td>0</td>\n",
       "      <td>0</td>\n",
       "      <td>0</td>\n",
       "      <td>0</td>\n",
       "    </tr>\n",
       "    <tr>\n",
       "      <td>1516063</td>\n",
       "      <td>1516063</td>\n",
       "      <td>2</td>\n",
       "      <td>0.537</td>\n",
       "      <td>79.0</td>\n",
       "      <td>47.0</td>\n",
       "      <td>28.63</td>\n",
       "      <td>7.0</td>\n",
       "      <td>7.000000</td>\n",
       "      <td>1</td>\n",
       "      <td>1</td>\n",
       "      <td>...</td>\n",
       "      <td>0</td>\n",
       "      <td>0</td>\n",
       "      <td>0</td>\n",
       "      <td>0</td>\n",
       "      <td>0</td>\n",
       "      <td>0</td>\n",
       "      <td>0</td>\n",
       "      <td>0</td>\n",
       "      <td>0</td>\n",
       "      <td>0</td>\n",
       "    </tr>\n",
       "  </tbody>\n",
       "</table>\n",
       "<p>1516064 rows × 55 columns</p>\n",
       "</div>"
      ],
      "text/plain": [
       "         Unnamed: 0  Severity  Distance(mi)  Temperature(F)  Humidity(%)  \\\n",
       "0                 0         3         3.230            42.1         58.0   \n",
       "1                 1         2         0.747            36.9         91.0   \n",
       "2                 2         2         0.055            36.0         97.0   \n",
       "3                 3         2         0.219            36.0         97.0   \n",
       "4                 4         2         0.123            39.0         55.0   \n",
       "...             ...       ...           ...             ...          ...   \n",
       "1516059     1516059         2         0.543            86.0         40.0   \n",
       "1516060     1516060         2         0.338            70.0         73.0   \n",
       "1516061     1516061         2         0.561            73.0         64.0   \n",
       "1516062     1516062         2         0.772            71.0         81.0   \n",
       "1516063     1516063         2         0.537            79.0         47.0   \n",
       "\n",
       "         Pressure(in)  Visibility(mi)  Wind_Speed(mph)  Amenity  Bump  ...  \\\n",
       "0               29.76            10.0        10.400000        1     1  ...   \n",
       "1               29.68            10.0         9.863415        1     1  ...   \n",
       "2               29.70            10.0         9.166000        1     1  ...   \n",
       "3               29.70            10.0         9.166000        1     1  ...   \n",
       "4               29.65            10.0        10.397143        1     1  ...   \n",
       "...               ...             ...              ...      ...   ...  ...   \n",
       "1516059         28.92            10.0        13.000000        1     1  ...   \n",
       "1516060         29.39            10.0         6.000000        1     1  ...   \n",
       "1516061         29.74            10.0        10.000000        1     1  ...   \n",
       "1516062         29.62            10.0         8.000000        1     1  ...   \n",
       "1516063         28.63             7.0         7.000000        1     1  ...   \n",
       "\n",
       "         Weather_Condition_Cloudy  Weather_Condition_Fog  \\\n",
       "0                               0                      0   \n",
       "1                               0                      0   \n",
       "2                               1                      0   \n",
       "3                               1                      0   \n",
       "4                               1                      0   \n",
       "...                           ...                    ...   \n",
       "1516059                         0                      0   \n",
       "1516060                         0                      0   \n",
       "1516061                         1                      0   \n",
       "1516062                         0                      0   \n",
       "1516063                         0                      0   \n",
       "\n",
       "         Weather_Condition_Hail  Weather_Condition_Rain  \\\n",
       "0                             0                       1   \n",
       "1                             0                       1   \n",
       "2                             0                       0   \n",
       "3                             0                       0   \n",
       "4                             0                       0   \n",
       "...                         ...                     ...   \n",
       "1516059                       0                       0   \n",
       "1516060                       0                       0   \n",
       "1516061                       0                       0   \n",
       "1516062                       0                       0   \n",
       "1516063                       0                       0   \n",
       "\n",
       "         Weather_Condition_Sand  Weather_Condition_Smoke  \\\n",
       "0                             0                        0   \n",
       "1                             0                        0   \n",
       "2                             0                        0   \n",
       "3                             0                        0   \n",
       "4                             0                        0   \n",
       "...                         ...                      ...   \n",
       "1516059                       0                        0   \n",
       "1516060                       0                        0   \n",
       "1516061                       0                        0   \n",
       "1516062                       0                        0   \n",
       "1516063                       0                        0   \n",
       "\n",
       "         Weather_Condition_Snow  Weather_Condition_Thunderstorm  \\\n",
       "0                             0                               0   \n",
       "1                             0                               0   \n",
       "2                             0                               0   \n",
       "3                             0                               0   \n",
       "4                             0                               0   \n",
       "...                         ...                             ...   \n",
       "1516059                       0                               0   \n",
       "1516060                       0                               0   \n",
       "1516061                       0                               0   \n",
       "1516062                       0                               0   \n",
       "1516063                       0                               0   \n",
       "\n",
       "         Weather_Condition_Tornado  Weather_Condition_Windy  \n",
       "0                                0                        0  \n",
       "1                                0                        0  \n",
       "2                                0                        0  \n",
       "3                                0                        0  \n",
       "4                                0                        0  \n",
       "...                            ...                      ...  \n",
       "1516059                          0                        0  \n",
       "1516060                          0                        0  \n",
       "1516061                          0                        0  \n",
       "1516062                          0                        0  \n",
       "1516063                          0                        0  \n",
       "\n",
       "[1516064 rows x 55 columns]"
      ]
     },
     "execution_count": 110,
     "metadata": {},
     "output_type": "execute_result"
    }
   ],
   "source": [
    "df_numeric"
   ]
  },
  {
   "cell_type": "code",
   "execution_count": 7,
   "id": "34b0bb5e",
   "metadata": {},
   "outputs": [
    {
     "data": {
      "text/html": [
       "<div>\n",
       "<style scoped>\n",
       "    .dataframe tbody tr th:only-of-type {\n",
       "        vertical-align: middle;\n",
       "    }\n",
       "\n",
       "    .dataframe tbody tr th {\n",
       "        vertical-align: top;\n",
       "    }\n",
       "\n",
       "    .dataframe thead th {\n",
       "        text-align: right;\n",
       "    }\n",
       "</style>\n",
       "<table border=\"1\" class=\"dataframe\">\n",
       "  <thead>\n",
       "    <tr style=\"text-align: right;\">\n",
       "      <th></th>\n",
       "      <th>Unnamed: 0</th>\n",
       "      <th>Severity</th>\n",
       "      <th>Distance(mi)</th>\n",
       "      <th>Temperature(F)</th>\n",
       "      <th>Humidity(%)</th>\n",
       "      <th>Pressure(in)</th>\n",
       "      <th>Visibility(mi)</th>\n",
       "      <th>Wind_Speed(mph)</th>\n",
       "      <th>Amenity</th>\n",
       "      <th>Bump</th>\n",
       "      <th>...</th>\n",
       "      <th>Weather_Condition_Cloudy</th>\n",
       "      <th>Weather_Condition_Fog</th>\n",
       "      <th>Weather_Condition_Hail</th>\n",
       "      <th>Weather_Condition_Rain</th>\n",
       "      <th>Weather_Condition_Sand</th>\n",
       "      <th>Weather_Condition_Smoke</th>\n",
       "      <th>Weather_Condition_Snow</th>\n",
       "      <th>Weather_Condition_Thunderstorm</th>\n",
       "      <th>Weather_Condition_Tornado</th>\n",
       "      <th>Weather_Condition_Windy</th>\n",
       "    </tr>\n",
       "  </thead>\n",
       "  <tbody>\n",
       "    <tr>\n",
       "      <td>0</td>\n",
       "      <td>0</td>\n",
       "      <td>3</td>\n",
       "      <td>3.230</td>\n",
       "      <td>42.1</td>\n",
       "      <td>58.0</td>\n",
       "      <td>29.76</td>\n",
       "      <td>10.0</td>\n",
       "      <td>10.400000</td>\n",
       "      <td>1</td>\n",
       "      <td>1</td>\n",
       "      <td>...</td>\n",
       "      <td>0</td>\n",
       "      <td>0</td>\n",
       "      <td>0</td>\n",
       "      <td>1</td>\n",
       "      <td>0</td>\n",
       "      <td>0</td>\n",
       "      <td>0</td>\n",
       "      <td>0</td>\n",
       "      <td>0</td>\n",
       "      <td>0</td>\n",
       "    </tr>\n",
       "    <tr>\n",
       "      <td>1</td>\n",
       "      <td>1</td>\n",
       "      <td>2</td>\n",
       "      <td>0.747</td>\n",
       "      <td>36.9</td>\n",
       "      <td>91.0</td>\n",
       "      <td>29.68</td>\n",
       "      <td>10.0</td>\n",
       "      <td>9.863415</td>\n",
       "      <td>1</td>\n",
       "      <td>1</td>\n",
       "      <td>...</td>\n",
       "      <td>0</td>\n",
       "      <td>0</td>\n",
       "      <td>0</td>\n",
       "      <td>1</td>\n",
       "      <td>0</td>\n",
       "      <td>0</td>\n",
       "      <td>0</td>\n",
       "      <td>0</td>\n",
       "      <td>0</td>\n",
       "      <td>0</td>\n",
       "    </tr>\n",
       "    <tr>\n",
       "      <td>2</td>\n",
       "      <td>2</td>\n",
       "      <td>2</td>\n",
       "      <td>0.055</td>\n",
       "      <td>36.0</td>\n",
       "      <td>97.0</td>\n",
       "      <td>29.70</td>\n",
       "      <td>10.0</td>\n",
       "      <td>9.166000</td>\n",
       "      <td>1</td>\n",
       "      <td>1</td>\n",
       "      <td>...</td>\n",
       "      <td>1</td>\n",
       "      <td>0</td>\n",
       "      <td>0</td>\n",
       "      <td>0</td>\n",
       "      <td>0</td>\n",
       "      <td>0</td>\n",
       "      <td>0</td>\n",
       "      <td>0</td>\n",
       "      <td>0</td>\n",
       "      <td>0</td>\n",
       "    </tr>\n",
       "    <tr>\n",
       "      <td>3</td>\n",
       "      <td>3</td>\n",
       "      <td>2</td>\n",
       "      <td>0.219</td>\n",
       "      <td>36.0</td>\n",
       "      <td>97.0</td>\n",
       "      <td>29.70</td>\n",
       "      <td>10.0</td>\n",
       "      <td>9.166000</td>\n",
       "      <td>1</td>\n",
       "      <td>1</td>\n",
       "      <td>...</td>\n",
       "      <td>1</td>\n",
       "      <td>0</td>\n",
       "      <td>0</td>\n",
       "      <td>0</td>\n",
       "      <td>0</td>\n",
       "      <td>0</td>\n",
       "      <td>0</td>\n",
       "      <td>0</td>\n",
       "      <td>0</td>\n",
       "      <td>0</td>\n",
       "    </tr>\n",
       "    <tr>\n",
       "      <td>4</td>\n",
       "      <td>4</td>\n",
       "      <td>2</td>\n",
       "      <td>0.123</td>\n",
       "      <td>39.0</td>\n",
       "      <td>55.0</td>\n",
       "      <td>29.65</td>\n",
       "      <td>10.0</td>\n",
       "      <td>10.397143</td>\n",
       "      <td>1</td>\n",
       "      <td>1</td>\n",
       "      <td>...</td>\n",
       "      <td>1</td>\n",
       "      <td>0</td>\n",
       "      <td>0</td>\n",
       "      <td>0</td>\n",
       "      <td>0</td>\n",
       "      <td>0</td>\n",
       "      <td>0</td>\n",
       "      <td>0</td>\n",
       "      <td>0</td>\n",
       "      <td>0</td>\n",
       "    </tr>\n",
       "    <tr>\n",
       "      <td>...</td>\n",
       "      <td>...</td>\n",
       "      <td>...</td>\n",
       "      <td>...</td>\n",
       "      <td>...</td>\n",
       "      <td>...</td>\n",
       "      <td>...</td>\n",
       "      <td>...</td>\n",
       "      <td>...</td>\n",
       "      <td>...</td>\n",
       "      <td>...</td>\n",
       "      <td>...</td>\n",
       "      <td>...</td>\n",
       "      <td>...</td>\n",
       "      <td>...</td>\n",
       "      <td>...</td>\n",
       "      <td>...</td>\n",
       "      <td>...</td>\n",
       "      <td>...</td>\n",
       "      <td>...</td>\n",
       "      <td>...</td>\n",
       "      <td>...</td>\n",
       "    </tr>\n",
       "    <tr>\n",
       "      <td>1516059</td>\n",
       "      <td>1516059</td>\n",
       "      <td>2</td>\n",
       "      <td>0.543</td>\n",
       "      <td>86.0</td>\n",
       "      <td>40.0</td>\n",
       "      <td>28.92</td>\n",
       "      <td>10.0</td>\n",
       "      <td>13.000000</td>\n",
       "      <td>1</td>\n",
       "      <td>1</td>\n",
       "      <td>...</td>\n",
       "      <td>0</td>\n",
       "      <td>0</td>\n",
       "      <td>0</td>\n",
       "      <td>0</td>\n",
       "      <td>0</td>\n",
       "      <td>0</td>\n",
       "      <td>0</td>\n",
       "      <td>0</td>\n",
       "      <td>0</td>\n",
       "      <td>0</td>\n",
       "    </tr>\n",
       "    <tr>\n",
       "      <td>1516060</td>\n",
       "      <td>1516060</td>\n",
       "      <td>2</td>\n",
       "      <td>0.338</td>\n",
       "      <td>70.0</td>\n",
       "      <td>73.0</td>\n",
       "      <td>29.39</td>\n",
       "      <td>10.0</td>\n",
       "      <td>6.000000</td>\n",
       "      <td>1</td>\n",
       "      <td>1</td>\n",
       "      <td>...</td>\n",
       "      <td>0</td>\n",
       "      <td>0</td>\n",
       "      <td>0</td>\n",
       "      <td>0</td>\n",
       "      <td>0</td>\n",
       "      <td>0</td>\n",
       "      <td>0</td>\n",
       "      <td>0</td>\n",
       "      <td>0</td>\n",
       "      <td>0</td>\n",
       "    </tr>\n",
       "    <tr>\n",
       "      <td>1516061</td>\n",
       "      <td>1516061</td>\n",
       "      <td>2</td>\n",
       "      <td>0.561</td>\n",
       "      <td>73.0</td>\n",
       "      <td>64.0</td>\n",
       "      <td>29.74</td>\n",
       "      <td>10.0</td>\n",
       "      <td>10.000000</td>\n",
       "      <td>1</td>\n",
       "      <td>1</td>\n",
       "      <td>...</td>\n",
       "      <td>1</td>\n",
       "      <td>0</td>\n",
       "      <td>0</td>\n",
       "      <td>0</td>\n",
       "      <td>0</td>\n",
       "      <td>0</td>\n",
       "      <td>0</td>\n",
       "      <td>0</td>\n",
       "      <td>0</td>\n",
       "      <td>0</td>\n",
       "    </tr>\n",
       "    <tr>\n",
       "      <td>1516062</td>\n",
       "      <td>1516062</td>\n",
       "      <td>2</td>\n",
       "      <td>0.772</td>\n",
       "      <td>71.0</td>\n",
       "      <td>81.0</td>\n",
       "      <td>29.62</td>\n",
       "      <td>10.0</td>\n",
       "      <td>8.000000</td>\n",
       "      <td>1</td>\n",
       "      <td>1</td>\n",
       "      <td>...</td>\n",
       "      <td>0</td>\n",
       "      <td>0</td>\n",
       "      <td>0</td>\n",
       "      <td>0</td>\n",
       "      <td>0</td>\n",
       "      <td>0</td>\n",
       "      <td>0</td>\n",
       "      <td>0</td>\n",
       "      <td>0</td>\n",
       "      <td>0</td>\n",
       "    </tr>\n",
       "    <tr>\n",
       "      <td>1516063</td>\n",
       "      <td>1516063</td>\n",
       "      <td>2</td>\n",
       "      <td>0.537</td>\n",
       "      <td>79.0</td>\n",
       "      <td>47.0</td>\n",
       "      <td>28.63</td>\n",
       "      <td>7.0</td>\n",
       "      <td>7.000000</td>\n",
       "      <td>1</td>\n",
       "      <td>1</td>\n",
       "      <td>...</td>\n",
       "      <td>0</td>\n",
       "      <td>0</td>\n",
       "      <td>0</td>\n",
       "      <td>0</td>\n",
       "      <td>0</td>\n",
       "      <td>0</td>\n",
       "      <td>0</td>\n",
       "      <td>0</td>\n",
       "      <td>0</td>\n",
       "      <td>0</td>\n",
       "    </tr>\n",
       "  </tbody>\n",
       "</table>\n",
       "<p>1516064 rows × 55 columns</p>\n",
       "</div>"
      ],
      "text/plain": [
       "         Unnamed: 0  Severity  Distance(mi)  Temperature(F)  Humidity(%)  \\\n",
       "0                 0         3         3.230            42.1         58.0   \n",
       "1                 1         2         0.747            36.9         91.0   \n",
       "2                 2         2         0.055            36.0         97.0   \n",
       "3                 3         2         0.219            36.0         97.0   \n",
       "4                 4         2         0.123            39.0         55.0   \n",
       "...             ...       ...           ...             ...          ...   \n",
       "1516059     1516059         2         0.543            86.0         40.0   \n",
       "1516060     1516060         2         0.338            70.0         73.0   \n",
       "1516061     1516061         2         0.561            73.0         64.0   \n",
       "1516062     1516062         2         0.772            71.0         81.0   \n",
       "1516063     1516063         2         0.537            79.0         47.0   \n",
       "\n",
       "         Pressure(in)  Visibility(mi)  Wind_Speed(mph)  Amenity  Bump  ...  \\\n",
       "0               29.76            10.0        10.400000        1     1  ...   \n",
       "1               29.68            10.0         9.863415        1     1  ...   \n",
       "2               29.70            10.0         9.166000        1     1  ...   \n",
       "3               29.70            10.0         9.166000        1     1  ...   \n",
       "4               29.65            10.0        10.397143        1     1  ...   \n",
       "...               ...             ...              ...      ...   ...  ...   \n",
       "1516059         28.92            10.0        13.000000        1     1  ...   \n",
       "1516060         29.39            10.0         6.000000        1     1  ...   \n",
       "1516061         29.74            10.0        10.000000        1     1  ...   \n",
       "1516062         29.62            10.0         8.000000        1     1  ...   \n",
       "1516063         28.63             7.0         7.000000        1     1  ...   \n",
       "\n",
       "         Weather_Condition_Cloudy  Weather_Condition_Fog  \\\n",
       "0                               0                      0   \n",
       "1                               0                      0   \n",
       "2                               1                      0   \n",
       "3                               1                      0   \n",
       "4                               1                      0   \n",
       "...                           ...                    ...   \n",
       "1516059                         0                      0   \n",
       "1516060                         0                      0   \n",
       "1516061                         1                      0   \n",
       "1516062                         0                      0   \n",
       "1516063                         0                      0   \n",
       "\n",
       "         Weather_Condition_Hail  Weather_Condition_Rain  \\\n",
       "0                             0                       1   \n",
       "1                             0                       1   \n",
       "2                             0                       0   \n",
       "3                             0                       0   \n",
       "4                             0                       0   \n",
       "...                         ...                     ...   \n",
       "1516059                       0                       0   \n",
       "1516060                       0                       0   \n",
       "1516061                       0                       0   \n",
       "1516062                       0                       0   \n",
       "1516063                       0                       0   \n",
       "\n",
       "         Weather_Condition_Sand  Weather_Condition_Smoke  \\\n",
       "0                             0                        0   \n",
       "1                             0                        0   \n",
       "2                             0                        0   \n",
       "3                             0                        0   \n",
       "4                             0                        0   \n",
       "...                         ...                      ...   \n",
       "1516059                       0                        0   \n",
       "1516060                       0                        0   \n",
       "1516061                       0                        0   \n",
       "1516062                       0                        0   \n",
       "1516063                       0                        0   \n",
       "\n",
       "         Weather_Condition_Snow  Weather_Condition_Thunderstorm  \\\n",
       "0                             0                               0   \n",
       "1                             0                               0   \n",
       "2                             0                               0   \n",
       "3                             0                               0   \n",
       "4                             0                               0   \n",
       "...                         ...                             ...   \n",
       "1516059                       0                               0   \n",
       "1516060                       0                               0   \n",
       "1516061                       0                               0   \n",
       "1516062                       0                               0   \n",
       "1516063                       0                               0   \n",
       "\n",
       "         Weather_Condition_Tornado  Weather_Condition_Windy  \n",
       "0                                0                        0  \n",
       "1                                0                        0  \n",
       "2                                0                        0  \n",
       "3                                0                        0  \n",
       "4                                0                        0  \n",
       "...                            ...                      ...  \n",
       "1516059                          0                        0  \n",
       "1516060                          0                        0  \n",
       "1516061                          0                        0  \n",
       "1516062                          0                        0  \n",
       "1516063                          0                        0  \n",
       "\n",
       "[1516064 rows x 55 columns]"
      ]
     },
     "execution_count": 7,
     "metadata": {},
     "output_type": "execute_result"
    }
   ],
   "source": [
    "df_numeric"
   ]
  },
  {
   "cell_type": "code",
   "execution_count": 111,
   "id": "52ee6065",
   "metadata": {},
   "outputs": [
    {
     "data": {
      "text/html": [
       "<div>\n",
       "<style scoped>\n",
       "    .dataframe tbody tr th:only-of-type {\n",
       "        vertical-align: middle;\n",
       "    }\n",
       "\n",
       "    .dataframe tbody tr th {\n",
       "        vertical-align: top;\n",
       "    }\n",
       "\n",
       "    .dataframe thead th {\n",
       "        text-align: right;\n",
       "    }\n",
       "</style>\n",
       "<table border=\"1\" class=\"dataframe\">\n",
       "  <thead>\n",
       "    <tr style=\"text-align: right;\">\n",
       "      <th></th>\n",
       "      <th>Severity</th>\n",
       "      <th>Distance(mi)</th>\n",
       "      <th>Temperature(F)</th>\n",
       "      <th>Humidity(%)</th>\n",
       "      <th>Pressure(in)</th>\n",
       "      <th>Visibility(mi)</th>\n",
       "      <th>Wind_Speed(mph)</th>\n",
       "      <th>Amenity</th>\n",
       "      <th>Bump</th>\n",
       "      <th>Crossing</th>\n",
       "      <th>...</th>\n",
       "      <th>Weather_Condition_Cloudy</th>\n",
       "      <th>Weather_Condition_Fog</th>\n",
       "      <th>Weather_Condition_Hail</th>\n",
       "      <th>Weather_Condition_Rain</th>\n",
       "      <th>Weather_Condition_Sand</th>\n",
       "      <th>Weather_Condition_Smoke</th>\n",
       "      <th>Weather_Condition_Snow</th>\n",
       "      <th>Weather_Condition_Thunderstorm</th>\n",
       "      <th>Weather_Condition_Tornado</th>\n",
       "      <th>Weather_Condition_Windy</th>\n",
       "    </tr>\n",
       "  </thead>\n",
       "  <tbody>\n",
       "    <tr>\n",
       "      <td>0</td>\n",
       "      <td>3</td>\n",
       "      <td>3.230</td>\n",
       "      <td>42.1</td>\n",
       "      <td>58.0</td>\n",
       "      <td>29.76</td>\n",
       "      <td>10.0</td>\n",
       "      <td>10.400000</td>\n",
       "      <td>1</td>\n",
       "      <td>1</td>\n",
       "      <td>1</td>\n",
       "      <td>...</td>\n",
       "      <td>0</td>\n",
       "      <td>0</td>\n",
       "      <td>0</td>\n",
       "      <td>1</td>\n",
       "      <td>0</td>\n",
       "      <td>0</td>\n",
       "      <td>0</td>\n",
       "      <td>0</td>\n",
       "      <td>0</td>\n",
       "      <td>0</td>\n",
       "    </tr>\n",
       "    <tr>\n",
       "      <td>1</td>\n",
       "      <td>2</td>\n",
       "      <td>0.747</td>\n",
       "      <td>36.9</td>\n",
       "      <td>91.0</td>\n",
       "      <td>29.68</td>\n",
       "      <td>10.0</td>\n",
       "      <td>9.863415</td>\n",
       "      <td>1</td>\n",
       "      <td>1</td>\n",
       "      <td>1</td>\n",
       "      <td>...</td>\n",
       "      <td>0</td>\n",
       "      <td>0</td>\n",
       "      <td>0</td>\n",
       "      <td>1</td>\n",
       "      <td>0</td>\n",
       "      <td>0</td>\n",
       "      <td>0</td>\n",
       "      <td>0</td>\n",
       "      <td>0</td>\n",
       "      <td>0</td>\n",
       "    </tr>\n",
       "    <tr>\n",
       "      <td>2</td>\n",
       "      <td>2</td>\n",
       "      <td>0.055</td>\n",
       "      <td>36.0</td>\n",
       "      <td>97.0</td>\n",
       "      <td>29.70</td>\n",
       "      <td>10.0</td>\n",
       "      <td>9.166000</td>\n",
       "      <td>1</td>\n",
       "      <td>1</td>\n",
       "      <td>1</td>\n",
       "      <td>...</td>\n",
       "      <td>1</td>\n",
       "      <td>0</td>\n",
       "      <td>0</td>\n",
       "      <td>0</td>\n",
       "      <td>0</td>\n",
       "      <td>0</td>\n",
       "      <td>0</td>\n",
       "      <td>0</td>\n",
       "      <td>0</td>\n",
       "      <td>0</td>\n",
       "    </tr>\n",
       "    <tr>\n",
       "      <td>3</td>\n",
       "      <td>2</td>\n",
       "      <td>0.219</td>\n",
       "      <td>36.0</td>\n",
       "      <td>97.0</td>\n",
       "      <td>29.70</td>\n",
       "      <td>10.0</td>\n",
       "      <td>9.166000</td>\n",
       "      <td>1</td>\n",
       "      <td>1</td>\n",
       "      <td>1</td>\n",
       "      <td>...</td>\n",
       "      <td>1</td>\n",
       "      <td>0</td>\n",
       "      <td>0</td>\n",
       "      <td>0</td>\n",
       "      <td>0</td>\n",
       "      <td>0</td>\n",
       "      <td>0</td>\n",
       "      <td>0</td>\n",
       "      <td>0</td>\n",
       "      <td>0</td>\n",
       "    </tr>\n",
       "    <tr>\n",
       "      <td>4</td>\n",
       "      <td>2</td>\n",
       "      <td>0.123</td>\n",
       "      <td>39.0</td>\n",
       "      <td>55.0</td>\n",
       "      <td>29.65</td>\n",
       "      <td>10.0</td>\n",
       "      <td>10.397143</td>\n",
       "      <td>1</td>\n",
       "      <td>1</td>\n",
       "      <td>1</td>\n",
       "      <td>...</td>\n",
       "      <td>1</td>\n",
       "      <td>0</td>\n",
       "      <td>0</td>\n",
       "      <td>0</td>\n",
       "      <td>0</td>\n",
       "      <td>0</td>\n",
       "      <td>0</td>\n",
       "      <td>0</td>\n",
       "      <td>0</td>\n",
       "      <td>0</td>\n",
       "    </tr>\n",
       "  </tbody>\n",
       "</table>\n",
       "<p>5 rows × 54 columns</p>\n",
       "</div>"
      ],
      "text/plain": [
       "   Severity  Distance(mi)  Temperature(F)  Humidity(%)  Pressure(in)  \\\n",
       "0         3         3.230            42.1         58.0         29.76   \n",
       "1         2         0.747            36.9         91.0         29.68   \n",
       "2         2         0.055            36.0         97.0         29.70   \n",
       "3         2         0.219            36.0         97.0         29.70   \n",
       "4         2         0.123            39.0         55.0         29.65   \n",
       "\n",
       "   Visibility(mi)  Wind_Speed(mph)  Amenity  Bump  Crossing  ...  \\\n",
       "0            10.0        10.400000        1     1         1  ...   \n",
       "1            10.0         9.863415        1     1         1  ...   \n",
       "2            10.0         9.166000        1     1         1  ...   \n",
       "3            10.0         9.166000        1     1         1  ...   \n",
       "4            10.0        10.397143        1     1         1  ...   \n",
       "\n",
       "   Weather_Condition_Cloudy  Weather_Condition_Fog  Weather_Condition_Hail  \\\n",
       "0                         0                      0                       0   \n",
       "1                         0                      0                       0   \n",
       "2                         1                      0                       0   \n",
       "3                         1                      0                       0   \n",
       "4                         1                      0                       0   \n",
       "\n",
       "   Weather_Condition_Rain  Weather_Condition_Sand  Weather_Condition_Smoke  \\\n",
       "0                       1                       0                        0   \n",
       "1                       1                       0                        0   \n",
       "2                       0                       0                        0   \n",
       "3                       0                       0                        0   \n",
       "4                       0                       0                        0   \n",
       "\n",
       "   Weather_Condition_Snow  Weather_Condition_Thunderstorm  \\\n",
       "0                       0                               0   \n",
       "1                       0                               0   \n",
       "2                       0                               0   \n",
       "3                       0                               0   \n",
       "4                       0                               0   \n",
       "\n",
       "   Weather_Condition_Tornado  Weather_Condition_Windy  \n",
       "0                          0                        0  \n",
       "1                          0                        0  \n",
       "2                          0                        0  \n",
       "3                          0                        0  \n",
       "4                          0                        0  \n",
       "\n",
       "[5 rows x 54 columns]"
      ]
     },
     "execution_count": 111,
     "metadata": {},
     "output_type": "execute_result"
    }
   ],
   "source": [
    "df_numeric = df_numeric.iloc[:, 1:55]\n",
    "df_numeric.head()"
   ]
  },
  {
   "cell_type": "code",
   "execution_count": 112,
   "id": "b52d8673",
   "metadata": {},
   "outputs": [
    {
     "name": "stdout",
     "output_type": "stream",
     "text": [
      "2    1212382\n",
      "3     161052\n",
      "4     114452\n",
      "1      28178\n",
      "Name: Severity, dtype: int64\n"
     ]
    },
    {
     "data": {
      "image/png": "[encoded data removed]",
      "text/plain": [
       "<Figure size 432x288 with 1 Axes>"
      ]
     },
     "metadata": {
      "needs_background": "light"
     },
     "output_type": "display_data"
    }
   ],
   "source": [
    "ax = sns.countplot(x = 'Severity', data = df_numeric)\n",
    "print(df_numeric['Severity'].value_counts())"
   ]
  },
  {
   "cell_type": "code",
   "execution_count": 113,
   "id": "2565e37d",
   "metadata": {},
   "outputs": [
    {
     "name": "stdout",
     "output_type": "stream",
     "text": [
      "28178\n"
     ]
    }
   ],
   "source": [
    "# undersampling\n",
    "target = 'Severity'\n",
    "minority_class_len = len(df_numeric[df_numeric[target] == 1])\n",
    "print(minority_class_len)"
   ]
  },
  {
   "cell_type": "code",
   "execution_count": 114,
   "id": "bcc81f39",
   "metadata": {},
   "outputs": [
    {
     "name": "stdout",
     "output_type": "stream",
     "text": [
      "Int64Index([      1,       2,       3,       4,       6,       7,       8,\n",
      "                  9,      10,      11,\n",
      "            ...\n",
      "            1516054, 1516055, 1516056, 1516057, 1516058, 1516059, 1516060,\n",
      "            1516061, 1516062, 1516063],\n",
      "           dtype='int64', length=1212382)\n"
     ]
    }
   ],
   "source": [
    "majority_class2_indices = df_numeric[df_numeric[target] == 2].index\n",
    "print(majority_class2_indices)"
   ]
  },
  {
   "cell_type": "code",
   "execution_count": 115,
   "id": "3e34e942",
   "metadata": {},
   "outputs": [
    {
     "name": "stdout",
     "output_type": "stream",
     "text": [
      "Int64Index([      0,       5,      16,      17,      18,      20,      23,\n",
      "                 30,      31,      32,\n",
      "            ...\n",
      "            1515851, 1515857, 1515863, 1515882, 1516019, 1516020, 1516021,\n",
      "            1516026, 1516027, 1516029],\n",
      "           dtype='int64', length=161052)\n"
     ]
    }
   ],
   "source": [
    "majority_class3_indices = df_numeric[df_numeric[target] == 3].index\n",
    "print(majority_class3_indices)"
   ]
  },
  {
   "cell_type": "code",
   "execution_count": 116,
   "id": "eb45bb6c",
   "metadata": {},
   "outputs": [
    {
     "name": "stdout",
     "output_type": "stream",
     "text": [
      "Int64Index([     21,      28,      41,      44,      45,      46,      47,\n",
      "                 48,      49,      71,\n",
      "            ...\n",
      "            1515864, 1516017, 1516018, 1516022, 1516023, 1516024, 1516025,\n",
      "            1516036, 1516037, 1516050],\n",
      "           dtype='int64', length=114452)\n"
     ]
    }
   ],
   "source": [
    "majority_class4_indices = df_numeric[df_numeric[target] == 4].index\n",
    "print(majority_class4_indices)"
   ]
  },
  {
   "cell_type": "code",
   "execution_count": 117,
   "id": "196efd15",
   "metadata": {},
   "outputs": [],
   "source": [
    "minority_class_indices = df_numeric[df_numeric[target] == 1].index"
   ]
  },
  {
   "cell_type": "code",
   "execution_count": 118,
   "id": "124aaac3",
   "metadata": {},
   "outputs": [],
   "source": [
    "random_majority2_indices = np.random.choice(majority_class2_indices,\n",
    "                                          minority_class_len,\n",
    "                                          replace = False)"
   ]
  },
  {
   "cell_type": "code",
   "execution_count": 119,
   "id": "e7e20f90",
   "metadata": {},
   "outputs": [],
   "source": [
    "random_majority3_indices = np.random.choice(majority_class3_indices,\n",
    "                                          minority_class_len,\n",
    "                                          replace = False)"
   ]
  },
  {
   "cell_type": "code",
   "execution_count": 120,
   "id": "52511299",
   "metadata": {},
   "outputs": [],
   "source": [
    "random_majority4_indices = np.random.choice(majority_class4_indices,\n",
    "                                          minority_class_len,\n",
    "                                          replace = False)"
   ]
  },
  {
   "cell_type": "code",
   "execution_count": 121,
   "id": "aa7c0a38",
   "metadata": {},
   "outputs": [],
   "source": [
    "under_sample_indices = np.concatenate([minority_class_indices, random_majority2_indices, random_majority3_indices, random_majority4_indices])"
   ]
  },
  {
   "cell_type": "code",
   "execution_count": 122,
   "id": "26e5c1ac",
   "metadata": {},
   "outputs": [],
   "source": [
    "under_sample = df_numeric.loc[under_sample_indices]"
   ]
  },
  {
   "cell_type": "code",
   "execution_count": 123,
   "id": "86811711",
   "metadata": {},
   "outputs": [
    {
     "data": {
      "text/plain": [
       "<matplotlib.axes._subplots.AxesSubplot at 0x7fb1197c7890>"
      ]
     },
     "execution_count": 123,
     "metadata": {},
     "output_type": "execute_result"
    },
    {
     "data": {
      "image/png": "[encoded data removed]",
      "text/plain": [
       "<Figure size 432x288 with 1 Axes>"
      ]
     },
     "metadata": {
      "needs_background": "light"
     },
     "output_type": "display_data"
    }
   ],
   "source": [
    "sns.countplot(x = target, data = under_sample)"
   ]
  },
  {
   "cell_type": "code",
   "execution_count": 124,
   "id": "b1a8fcc1",
   "metadata": {},
   "outputs": [
    {
     "data": {
      "text/html": [
       "<div>\n",
       "<style scoped>\n",
       "    .dataframe tbody tr th:only-of-type {\n",
       "        vertical-align: middle;\n",
       "    }\n",
       "\n",
       "    .dataframe tbody tr th {\n",
       "        vertical-align: top;\n",
       "    }\n",
       "\n",
       "    .dataframe thead th {\n",
       "        text-align: right;\n",
       "    }\n",
       "</style>\n",
       "<table border=\"1\" class=\"dataframe\">\n",
       "  <thead>\n",
       "    <tr style=\"text-align: right;\">\n",
       "      <th></th>\n",
       "      <th>Severity</th>\n",
       "      <th>Distance(mi)</th>\n",
       "      <th>Temperature(F)</th>\n",
       "      <th>Humidity(%)</th>\n",
       "      <th>Pressure(in)</th>\n",
       "      <th>Visibility(mi)</th>\n",
       "      <th>Wind_Speed(mph)</th>\n",
       "      <th>Amenity</th>\n",
       "      <th>Bump</th>\n",
       "      <th>Crossing</th>\n",
       "      <th>...</th>\n",
       "      <th>Weather_Condition_Cloudy</th>\n",
       "      <th>Weather_Condition_Fog</th>\n",
       "      <th>Weather_Condition_Hail</th>\n",
       "      <th>Weather_Condition_Rain</th>\n",
       "      <th>Weather_Condition_Sand</th>\n",
       "      <th>Weather_Condition_Smoke</th>\n",
       "      <th>Weather_Condition_Snow</th>\n",
       "      <th>Weather_Condition_Thunderstorm</th>\n",
       "      <th>Weather_Condition_Tornado</th>\n",
       "      <th>Weather_Condition_Windy</th>\n",
       "    </tr>\n",
       "  </thead>\n",
       "  <tbody>\n",
       "    <tr>\n",
       "      <td>237384</td>\n",
       "      <td>1</td>\n",
       "      <td>0.000</td>\n",
       "      <td>103.0</td>\n",
       "      <td>22.0</td>\n",
       "      <td>27.15</td>\n",
       "      <td>10.0</td>\n",
       "      <td>10.0</td>\n",
       "      <td>1</td>\n",
       "      <td>1</td>\n",
       "      <td>1</td>\n",
       "      <td>...</td>\n",
       "      <td>1</td>\n",
       "      <td>0</td>\n",
       "      <td>0</td>\n",
       "      <td>0</td>\n",
       "      <td>0</td>\n",
       "      <td>0</td>\n",
       "      <td>0</td>\n",
       "      <td>0</td>\n",
       "      <td>0</td>\n",
       "      <td>0</td>\n",
       "    </tr>\n",
       "    <tr>\n",
       "      <td>239465</td>\n",
       "      <td>1</td>\n",
       "      <td>0.000</td>\n",
       "      <td>95.0</td>\n",
       "      <td>19.0</td>\n",
       "      <td>27.16</td>\n",
       "      <td>10.0</td>\n",
       "      <td>10.0</td>\n",
       "      <td>1</td>\n",
       "      <td>1</td>\n",
       "      <td>1</td>\n",
       "      <td>...</td>\n",
       "      <td>0</td>\n",
       "      <td>0</td>\n",
       "      <td>0</td>\n",
       "      <td>0</td>\n",
       "      <td>0</td>\n",
       "      <td>0</td>\n",
       "      <td>0</td>\n",
       "      <td>0</td>\n",
       "      <td>0</td>\n",
       "      <td>0</td>\n",
       "    </tr>\n",
       "    <tr>\n",
       "      <td>255869</td>\n",
       "      <td>1</td>\n",
       "      <td>0.000</td>\n",
       "      <td>68.0</td>\n",
       "      <td>93.0</td>\n",
       "      <td>29.14</td>\n",
       "      <td>9.0</td>\n",
       "      <td>5.0</td>\n",
       "      <td>1</td>\n",
       "      <td>1</td>\n",
       "      <td>1</td>\n",
       "      <td>...</td>\n",
       "      <td>0</td>\n",
       "      <td>0</td>\n",
       "      <td>0</td>\n",
       "      <td>0</td>\n",
       "      <td>0</td>\n",
       "      <td>0</td>\n",
       "      <td>0</td>\n",
       "      <td>1</td>\n",
       "      <td>0</td>\n",
       "      <td>0</td>\n",
       "    </tr>\n",
       "    <tr>\n",
       "      <td>258635</td>\n",
       "      <td>1</td>\n",
       "      <td>0.000</td>\n",
       "      <td>98.0</td>\n",
       "      <td>18.0</td>\n",
       "      <td>28.28</td>\n",
       "      <td>10.0</td>\n",
       "      <td>5.0</td>\n",
       "      <td>1</td>\n",
       "      <td>1</td>\n",
       "      <td>1</td>\n",
       "      <td>...</td>\n",
       "      <td>0</td>\n",
       "      <td>0</td>\n",
       "      <td>0</td>\n",
       "      <td>0</td>\n",
       "      <td>0</td>\n",
       "      <td>0</td>\n",
       "      <td>0</td>\n",
       "      <td>0</td>\n",
       "      <td>0</td>\n",
       "      <td>0</td>\n",
       "    </tr>\n",
       "    <tr>\n",
       "      <td>260618</td>\n",
       "      <td>1</td>\n",
       "      <td>0.000</td>\n",
       "      <td>95.0</td>\n",
       "      <td>22.0</td>\n",
       "      <td>29.90</td>\n",
       "      <td>10.0</td>\n",
       "      <td>9.0</td>\n",
       "      <td>1</td>\n",
       "      <td>1</td>\n",
       "      <td>1</td>\n",
       "      <td>...</td>\n",
       "      <td>0</td>\n",
       "      <td>0</td>\n",
       "      <td>0</td>\n",
       "      <td>0</td>\n",
       "      <td>0</td>\n",
       "      <td>0</td>\n",
       "      <td>0</td>\n",
       "      <td>0</td>\n",
       "      <td>0</td>\n",
       "      <td>0</td>\n",
       "    </tr>\n",
       "    <tr>\n",
       "      <td>...</td>\n",
       "      <td>...</td>\n",
       "      <td>...</td>\n",
       "      <td>...</td>\n",
       "      <td>...</td>\n",
       "      <td>...</td>\n",
       "      <td>...</td>\n",
       "      <td>...</td>\n",
       "      <td>...</td>\n",
       "      <td>...</td>\n",
       "      <td>...</td>\n",
       "      <td>...</td>\n",
       "      <td>...</td>\n",
       "      <td>...</td>\n",
       "      <td>...</td>\n",
       "      <td>...</td>\n",
       "      <td>...</td>\n",
       "      <td>...</td>\n",
       "      <td>...</td>\n",
       "      <td>...</td>\n",
       "      <td>...</td>\n",
       "      <td>...</td>\n",
       "    </tr>\n",
       "    <tr>\n",
       "      <td>213536</td>\n",
       "      <td>4</td>\n",
       "      <td>0.183</td>\n",
       "      <td>73.0</td>\n",
       "      <td>30.0</td>\n",
       "      <td>29.88</td>\n",
       "      <td>10.0</td>\n",
       "      <td>18.4</td>\n",
       "      <td>1</td>\n",
       "      <td>1</td>\n",
       "      <td>1</td>\n",
       "      <td>...</td>\n",
       "      <td>0</td>\n",
       "      <td>0</td>\n",
       "      <td>0</td>\n",
       "      <td>0</td>\n",
       "      <td>0</td>\n",
       "      <td>0</td>\n",
       "      <td>0</td>\n",
       "      <td>0</td>\n",
       "      <td>0</td>\n",
       "      <td>0</td>\n",
       "    </tr>\n",
       "    <tr>\n",
       "      <td>1275131</td>\n",
       "      <td>4</td>\n",
       "      <td>7.176</td>\n",
       "      <td>75.0</td>\n",
       "      <td>87.0</td>\n",
       "      <td>30.13</td>\n",
       "      <td>4.0</td>\n",
       "      <td>12.7</td>\n",
       "      <td>1</td>\n",
       "      <td>1</td>\n",
       "      <td>1</td>\n",
       "      <td>...</td>\n",
       "      <td>0</td>\n",
       "      <td>0</td>\n",
       "      <td>0</td>\n",
       "      <td>1</td>\n",
       "      <td>0</td>\n",
       "      <td>0</td>\n",
       "      <td>0</td>\n",
       "      <td>0</td>\n",
       "      <td>0</td>\n",
       "      <td>0</td>\n",
       "    </tr>\n",
       "    <tr>\n",
       "      <td>1389909</td>\n",
       "      <td>4</td>\n",
       "      <td>0.266</td>\n",
       "      <td>28.0</td>\n",
       "      <td>66.0</td>\n",
       "      <td>30.25</td>\n",
       "      <td>10.0</td>\n",
       "      <td>5.8</td>\n",
       "      <td>1</td>\n",
       "      <td>1</td>\n",
       "      <td>1</td>\n",
       "      <td>...</td>\n",
       "      <td>1</td>\n",
       "      <td>0</td>\n",
       "      <td>0</td>\n",
       "      <td>0</td>\n",
       "      <td>0</td>\n",
       "      <td>0</td>\n",
       "      <td>0</td>\n",
       "      <td>0</td>\n",
       "      <td>0</td>\n",
       "      <td>0</td>\n",
       "    </tr>\n",
       "    <tr>\n",
       "      <td>63983</td>\n",
       "      <td>4</td>\n",
       "      <td>0.056</td>\n",
       "      <td>70.0</td>\n",
       "      <td>81.0</td>\n",
       "      <td>30.16</td>\n",
       "      <td>10.0</td>\n",
       "      <td>12.7</td>\n",
       "      <td>1</td>\n",
       "      <td>1</td>\n",
       "      <td>1</td>\n",
       "      <td>...</td>\n",
       "      <td>1</td>\n",
       "      <td>0</td>\n",
       "      <td>0</td>\n",
       "      <td>0</td>\n",
       "      <td>0</td>\n",
       "      <td>0</td>\n",
       "      <td>0</td>\n",
       "      <td>0</td>\n",
       "      <td>0</td>\n",
       "      <td>0</td>\n",
       "    </tr>\n",
       "    <tr>\n",
       "      <td>254968</td>\n",
       "      <td>4</td>\n",
       "      <td>3.958</td>\n",
       "      <td>78.0</td>\n",
       "      <td>42.0</td>\n",
       "      <td>29.95</td>\n",
       "      <td>10.0</td>\n",
       "      <td>7.0</td>\n",
       "      <td>1</td>\n",
       "      <td>1</td>\n",
       "      <td>1</td>\n",
       "      <td>...</td>\n",
       "      <td>0</td>\n",
       "      <td>0</td>\n",
       "      <td>0</td>\n",
       "      <td>0</td>\n",
       "      <td>0</td>\n",
       "      <td>0</td>\n",
       "      <td>0</td>\n",
       "      <td>0</td>\n",
       "      <td>0</td>\n",
       "      <td>0</td>\n",
       "    </tr>\n",
       "  </tbody>\n",
       "</table>\n",
       "<p>112712 rows × 54 columns</p>\n",
       "</div>"
      ],
      "text/plain": [
       "         Severity  Distance(mi)  Temperature(F)  Humidity(%)  Pressure(in)  \\\n",
       "237384          1         0.000           103.0         22.0         27.15   \n",
       "239465          1         0.000            95.0         19.0         27.16   \n",
       "255869          1         0.000            68.0         93.0         29.14   \n",
       "258635          1         0.000            98.0         18.0         28.28   \n",
       "260618          1         0.000            95.0         22.0         29.90   \n",
       "...           ...           ...             ...          ...           ...   \n",
       "213536          4         0.183            73.0         30.0         29.88   \n",
       "1275131         4         7.176            75.0         87.0         30.13   \n",
       "1389909         4         0.266            28.0         66.0         30.25   \n",
       "63983           4         0.056            70.0         81.0         30.16   \n",
       "254968          4         3.958            78.0         42.0         29.95   \n",
       "\n",
       "         Visibility(mi)  Wind_Speed(mph)  Amenity  Bump  Crossing  ...  \\\n",
       "237384             10.0             10.0        1     1         1  ...   \n",
       "239465             10.0             10.0        1     1         1  ...   \n",
       "255869              9.0              5.0        1     1         1  ...   \n",
       "258635             10.0              5.0        1     1         1  ...   \n",
       "260618             10.0              9.0        1     1         1  ...   \n",
       "...                 ...              ...      ...   ...       ...  ...   \n",
       "213536             10.0             18.4        1     1         1  ...   \n",
       "1275131             4.0             12.7        1     1         1  ...   \n",
       "1389909            10.0              5.8        1     1         1  ...   \n",
       "63983              10.0             12.7        1     1         1  ...   \n",
       "254968             10.0              7.0        1     1         1  ...   \n",
       "\n",
       "         Weather_Condition_Cloudy  Weather_Condition_Fog  \\\n",
       "237384                          1                      0   \n",
       "239465                          0                      0   \n",
       "255869                          0                      0   \n",
       "258635                          0                      0   \n",
       "260618                          0                      0   \n",
       "...                           ...                    ...   \n",
       "213536                          0                      0   \n",
       "1275131                         0                      0   \n",
       "1389909                         1                      0   \n",
       "63983                           1                      0   \n",
       "254968                          0                      0   \n",
       "\n",
       "         Weather_Condition_Hail  Weather_Condition_Rain  \\\n",
       "237384                        0                       0   \n",
       "239465                        0                       0   \n",
       "255869                        0                       0   \n",
       "258635                        0                       0   \n",
       "260618                        0                       0   \n",
       "...                         ...                     ...   \n",
       "213536                        0                       0   \n",
       "1275131                       0                       1   \n",
       "1389909                       0                       0   \n",
       "63983                         0                       0   \n",
       "254968                        0                       0   \n",
       "\n",
       "         Weather_Condition_Sand  Weather_Condition_Smoke  \\\n",
       "237384                        0                        0   \n",
       "239465                        0                        0   \n",
       "255869                        0                        0   \n",
       "258635                        0                        0   \n",
       "260618                        0                        0   \n",
       "...                         ...                      ...   \n",
       "213536                        0                        0   \n",
       "1275131                       0                        0   \n",
       "1389909                       0                        0   \n",
       "63983                         0                        0   \n",
       "254968                        0                        0   \n",
       "\n",
       "         Weather_Condition_Snow  Weather_Condition_Thunderstorm  \\\n",
       "237384                        0                               0   \n",
       "239465                        0                               0   \n",
       "255869                        0                               1   \n",
       "258635                        0                               0   \n",
       "260618                        0                               0   \n",
       "...                         ...                             ...   \n",
       "213536                        0                               0   \n",
       "1275131                       0                               0   \n",
       "1389909                       0                               0   \n",
       "63983                         0                               0   \n",
       "254968                        0                               0   \n",
       "\n",
       "         Weather_Condition_Tornado  Weather_Condition_Windy  \n",
       "237384                           0                        0  \n",
       "239465                           0                        0  \n",
       "255869                           0                        0  \n",
       "258635                           0                        0  \n",
       "260618                           0                        0  \n",
       "...                            ...                      ...  \n",
       "213536                           0                        0  \n",
       "1275131                          0                        0  \n",
       "1389909                          0                        0  \n",
       "63983                            0                        0  \n",
       "254968                           0                        0  \n",
       "\n",
       "[112712 rows x 54 columns]"
      ]
     },
     "execution_count": 124,
     "metadata": {},
     "output_type": "execute_result"
    }
   ],
   "source": [
    "df_numeric = under_sample\n",
    "df_numeric"
   ]
  },
  {
   "cell_type": "code",
   "execution_count": 125,
   "id": "f6a4b566",
   "metadata": {},
   "outputs": [
    {
     "data": {
      "text/plain": [
       "237384     1\n",
       "239465     1\n",
       "255869     1\n",
       "258635     1\n",
       "260618     1\n",
       "          ..\n",
       "213536     4\n",
       "1275131    4\n",
       "1389909    4\n",
       "63983      4\n",
       "254968     4\n",
       "Name: Severity, Length: 112712, dtype: int64"
      ]
     },
     "execution_count": 125,
     "metadata": {},
     "output_type": "execute_result"
    }
   ],
   "source": [
    "df_target = df_numeric.iloc[:, 0]\n",
    "df_target"
   ]
  },
  {
   "cell_type": "code",
   "execution_count": 126,
   "id": "17f4af5e",
   "metadata": {},
   "outputs": [
    {
     "data": {
      "text/plain": [
       "(112712,)"
      ]
     },
     "execution_count": 126,
     "metadata": {},
     "output_type": "execute_result"
    }
   ],
   "source": [
    "df_target.shape"
   ]
  },
  {
   "cell_type": "code",
   "execution_count": 127,
   "id": "c67a277f",
   "metadata": {},
   "outputs": [
    {
     "data": {
      "text/plain": [
       "(112712, 54)"
      ]
     },
     "execution_count": 127,
     "metadata": {},
     "output_type": "execute_result"
    }
   ],
   "source": [
    "df_numeric.shape"
   ]
  },
  {
   "cell_type": "code",
   "execution_count": 128,
   "id": "76ed8199",
   "metadata": {},
   "outputs": [
    {
     "data": {
      "text/html": [
       "<div>\n",
       "<style scoped>\n",
       "    .dataframe tbody tr th:only-of-type {\n",
       "        vertical-align: middle;\n",
       "    }\n",
       "\n",
       "    .dataframe tbody tr th {\n",
       "        vertical-align: top;\n",
       "    }\n",
       "\n",
       "    .dataframe thead th {\n",
       "        text-align: right;\n",
       "    }\n",
       "</style>\n",
       "<table border=\"1\" class=\"dataframe\">\n",
       "  <thead>\n",
       "    <tr style=\"text-align: right;\">\n",
       "      <th></th>\n",
       "      <th>Distance(mi)</th>\n",
       "      <th>Temperature(F)</th>\n",
       "      <th>Humidity(%)</th>\n",
       "      <th>Pressure(in)</th>\n",
       "      <th>Visibility(mi)</th>\n",
       "      <th>Wind_Speed(mph)</th>\n",
       "      <th>Amenity</th>\n",
       "      <th>Bump</th>\n",
       "      <th>Crossing</th>\n",
       "      <th>Give_Way</th>\n",
       "      <th>...</th>\n",
       "      <th>Weather_Condition_Cloudy</th>\n",
       "      <th>Weather_Condition_Fog</th>\n",
       "      <th>Weather_Condition_Hail</th>\n",
       "      <th>Weather_Condition_Rain</th>\n",
       "      <th>Weather_Condition_Sand</th>\n",
       "      <th>Weather_Condition_Smoke</th>\n",
       "      <th>Weather_Condition_Snow</th>\n",
       "      <th>Weather_Condition_Thunderstorm</th>\n",
       "      <th>Weather_Condition_Tornado</th>\n",
       "      <th>Weather_Condition_Windy</th>\n",
       "    </tr>\n",
       "  </thead>\n",
       "  <tbody>\n",
       "    <tr>\n",
       "      <td>237384</td>\n",
       "      <td>0.0</td>\n",
       "      <td>103.0</td>\n",
       "      <td>22.0</td>\n",
       "      <td>27.15</td>\n",
       "      <td>10.0</td>\n",
       "      <td>10.0</td>\n",
       "      <td>1</td>\n",
       "      <td>1</td>\n",
       "      <td>1</td>\n",
       "      <td>1</td>\n",
       "      <td>...</td>\n",
       "      <td>1</td>\n",
       "      <td>0</td>\n",
       "      <td>0</td>\n",
       "      <td>0</td>\n",
       "      <td>0</td>\n",
       "      <td>0</td>\n",
       "      <td>0</td>\n",
       "      <td>0</td>\n",
       "      <td>0</td>\n",
       "      <td>0</td>\n",
       "    </tr>\n",
       "    <tr>\n",
       "      <td>239465</td>\n",
       "      <td>0.0</td>\n",
       "      <td>95.0</td>\n",
       "      <td>19.0</td>\n",
       "      <td>27.16</td>\n",
       "      <td>10.0</td>\n",
       "      <td>10.0</td>\n",
       "      <td>1</td>\n",
       "      <td>1</td>\n",
       "      <td>1</td>\n",
       "      <td>1</td>\n",
       "      <td>...</td>\n",
       "      <td>0</td>\n",
       "      <td>0</td>\n",
       "      <td>0</td>\n",
       "      <td>0</td>\n",
       "      <td>0</td>\n",
       "      <td>0</td>\n",
       "      <td>0</td>\n",
       "      <td>0</td>\n",
       "      <td>0</td>\n",
       "      <td>0</td>\n",
       "    </tr>\n",
       "    <tr>\n",
       "      <td>255869</td>\n",
       "      <td>0.0</td>\n",
       "      <td>68.0</td>\n",
       "      <td>93.0</td>\n",
       "      <td>29.14</td>\n",
       "      <td>9.0</td>\n",
       "      <td>5.0</td>\n",
       "      <td>1</td>\n",
       "      <td>1</td>\n",
       "      <td>1</td>\n",
       "      <td>1</td>\n",
       "      <td>...</td>\n",
       "      <td>0</td>\n",
       "      <td>0</td>\n",
       "      <td>0</td>\n",
       "      <td>0</td>\n",
       "      <td>0</td>\n",
       "      <td>0</td>\n",
       "      <td>0</td>\n",
       "      <td>1</td>\n",
       "      <td>0</td>\n",
       "      <td>0</td>\n",
       "    </tr>\n",
       "    <tr>\n",
       "      <td>258635</td>\n",
       "      <td>0.0</td>\n",
       "      <td>98.0</td>\n",
       "      <td>18.0</td>\n",
       "      <td>28.28</td>\n",
       "      <td>10.0</td>\n",
       "      <td>5.0</td>\n",
       "      <td>1</td>\n",
       "      <td>1</td>\n",
       "      <td>1</td>\n",
       "      <td>1</td>\n",
       "      <td>...</td>\n",
       "      <td>0</td>\n",
       "      <td>0</td>\n",
       "      <td>0</td>\n",
       "      <td>0</td>\n",
       "      <td>0</td>\n",
       "      <td>0</td>\n",
       "      <td>0</td>\n",
       "      <td>0</td>\n",
       "      <td>0</td>\n",
       "      <td>0</td>\n",
       "    </tr>\n",
       "    <tr>\n",
       "      <td>260618</td>\n",
       "      <td>0.0</td>\n",
       "      <td>95.0</td>\n",
       "      <td>22.0</td>\n",
       "      <td>29.90</td>\n",
       "      <td>10.0</td>\n",
       "      <td>9.0</td>\n",
       "      <td>1</td>\n",
       "      <td>1</td>\n",
       "      <td>1</td>\n",
       "      <td>1</td>\n",
       "      <td>...</td>\n",
       "      <td>0</td>\n",
       "      <td>0</td>\n",
       "      <td>0</td>\n",
       "      <td>0</td>\n",
       "      <td>0</td>\n",
       "      <td>0</td>\n",
       "      <td>0</td>\n",
       "      <td>0</td>\n",
       "      <td>0</td>\n",
       "      <td>0</td>\n",
       "    </tr>\n",
       "  </tbody>\n",
       "</table>\n",
       "<p>5 rows × 53 columns</p>\n",
       "</div>"
      ],
      "text/plain": [
       "        Distance(mi)  Temperature(F)  Humidity(%)  Pressure(in)  \\\n",
       "237384           0.0           103.0         22.0         27.15   \n",
       "239465           0.0            95.0         19.0         27.16   \n",
       "255869           0.0            68.0         93.0         29.14   \n",
       "258635           0.0            98.0         18.0         28.28   \n",
       "260618           0.0            95.0         22.0         29.90   \n",
       "\n",
       "        Visibility(mi)  Wind_Speed(mph)  Amenity  Bump  Crossing  Give_Way  \\\n",
       "237384            10.0             10.0        1     1         1         1   \n",
       "239465            10.0             10.0        1     1         1         1   \n",
       "255869             9.0              5.0        1     1         1         1   \n",
       "258635            10.0              5.0        1     1         1         1   \n",
       "260618            10.0              9.0        1     1         1         1   \n",
       "\n",
       "        ...  Weather_Condition_Cloudy  Weather_Condition_Fog  \\\n",
       "237384  ...                         1                      0   \n",
       "239465  ...                         0                      0   \n",
       "255869  ...                         0                      0   \n",
       "258635  ...                         0                      0   \n",
       "260618  ...                         0                      0   \n",
       "\n",
       "        Weather_Condition_Hail  Weather_Condition_Rain  \\\n",
       "237384                       0                       0   \n",
       "239465                       0                       0   \n",
       "255869                       0                       0   \n",
       "258635                       0                       0   \n",
       "260618                       0                       0   \n",
       "\n",
       "        Weather_Condition_Sand  Weather_Condition_Smoke  \\\n",
       "237384                       0                        0   \n",
       "239465                       0                        0   \n",
       "255869                       0                        0   \n",
       "258635                       0                        0   \n",
       "260618                       0                        0   \n",
       "\n",
       "        Weather_Condition_Snow  Weather_Condition_Thunderstorm  \\\n",
       "237384                       0                               0   \n",
       "239465                       0                               0   \n",
       "255869                       0                               1   \n",
       "258635                       0                               0   \n",
       "260618                       0                               0   \n",
       "\n",
       "        Weather_Condition_Tornado  Weather_Condition_Windy  \n",
       "237384                          0                        0  \n",
       "239465                          0                        0  \n",
       "255869                          0                        0  \n",
       "258635                          0                        0  \n",
       "260618                          0                        0  \n",
       "\n",
       "[5 rows x 53 columns]"
      ]
     },
     "execution_count": 128,
     "metadata": {},
     "output_type": "execute_result"
    }
   ],
   "source": [
    "df_numeric = under_sample.iloc[:, 1:54]\n",
    "df_numeric.head()"
   ]
  },
  {
   "cell_type": "code",
   "execution_count": 32,
   "id": "12f64ded",
   "metadata": {},
   "outputs": [],
   "source": [
    "#df_numeric = df_numeric.iloc[:10000, :]\n",
    "#df_numeric.shape"
   ]
  },
  {
   "cell_type": "code",
   "execution_count": 33,
   "id": "ed7928aa",
   "metadata": {},
   "outputs": [],
   "source": [
    "#df_target = df_target.iloc[:10000]\n",
    "#df_target.shape"
   ]
  },
  {
   "cell_type": "markdown",
   "id": "d6b0b07e",
   "metadata": {},
   "source": [
    "#### Finally, split the transformed data into training and test sets (using 80%-20% randomized split)."
   ]
  },
  {
   "cell_type": "code",
   "execution_count": 129,
   "id": "e3e6cad7",
   "metadata": {},
   "outputs": [
    {
     "name": "stdout",
     "output_type": "stream",
     "text": [
      "(22543, 53)\n"
     ]
    },
    {
     "data": {
      "text/html": [
       "<div>\n",
       "<style scoped>\n",
       "    .dataframe tbody tr th:only-of-type {\n",
       "        vertical-align: middle;\n",
       "    }\n",
       "\n",
       "    .dataframe tbody tr th {\n",
       "        vertical-align: top;\n",
       "    }\n",
       "\n",
       "    .dataframe thead th {\n",
       "        text-align: right;\n",
       "    }\n",
       "</style>\n",
       "<table border=\"1\" class=\"dataframe\">\n",
       "  <thead>\n",
       "    <tr style=\"text-align: right;\">\n",
       "      <th></th>\n",
       "      <th>Distance(mi)</th>\n",
       "      <th>Temperature(F)</th>\n",
       "      <th>Humidity(%)</th>\n",
       "      <th>Pressure(in)</th>\n",
       "      <th>Visibility(mi)</th>\n",
       "      <th>Wind_Speed(mph)</th>\n",
       "      <th>Amenity</th>\n",
       "      <th>Bump</th>\n",
       "      <th>Crossing</th>\n",
       "      <th>Give_Way</th>\n",
       "      <th>...</th>\n",
       "      <th>Weather_Condition_Cloudy</th>\n",
       "      <th>Weather_Condition_Fog</th>\n",
       "      <th>Weather_Condition_Hail</th>\n",
       "      <th>Weather_Condition_Rain</th>\n",
       "      <th>Weather_Condition_Sand</th>\n",
       "      <th>Weather_Condition_Smoke</th>\n",
       "      <th>Weather_Condition_Snow</th>\n",
       "      <th>Weather_Condition_Thunderstorm</th>\n",
       "      <th>Weather_Condition_Tornado</th>\n",
       "      <th>Weather_Condition_Windy</th>\n",
       "    </tr>\n",
       "  </thead>\n",
       "  <tbody>\n",
       "    <tr>\n",
       "      <td>215796</td>\n",
       "      <td>0.000</td>\n",
       "      <td>89.1</td>\n",
       "      <td>42.0</td>\n",
       "      <td>30.06</td>\n",
       "      <td>10.0</td>\n",
       "      <td>5.8</td>\n",
       "      <td>1</td>\n",
       "      <td>1</td>\n",
       "      <td>1</td>\n",
       "      <td>1</td>\n",
       "      <td>...</td>\n",
       "      <td>0</td>\n",
       "      <td>0</td>\n",
       "      <td>0</td>\n",
       "      <td>0</td>\n",
       "      <td>0</td>\n",
       "      <td>0</td>\n",
       "      <td>0</td>\n",
       "      <td>0</td>\n",
       "      <td>0</td>\n",
       "      <td>0</td>\n",
       "    </tr>\n",
       "    <tr>\n",
       "      <td>1134658</td>\n",
       "      <td>5.669</td>\n",
       "      <td>58.0</td>\n",
       "      <td>51.0</td>\n",
       "      <td>23.36</td>\n",
       "      <td>10.0</td>\n",
       "      <td>0.0</td>\n",
       "      <td>1</td>\n",
       "      <td>1</td>\n",
       "      <td>1</td>\n",
       "      <td>1</td>\n",
       "      <td>...</td>\n",
       "      <td>1</td>\n",
       "      <td>0</td>\n",
       "      <td>0</td>\n",
       "      <td>0</td>\n",
       "      <td>0</td>\n",
       "      <td>0</td>\n",
       "      <td>0</td>\n",
       "      <td>0</td>\n",
       "      <td>0</td>\n",
       "      <td>0</td>\n",
       "    </tr>\n",
       "    <tr>\n",
       "      <td>799091</td>\n",
       "      <td>0.000</td>\n",
       "      <td>85.0</td>\n",
       "      <td>19.0</td>\n",
       "      <td>28.61</td>\n",
       "      <td>10.0</td>\n",
       "      <td>0.0</td>\n",
       "      <td>1</td>\n",
       "      <td>1</td>\n",
       "      <td>1</td>\n",
       "      <td>1</td>\n",
       "      <td>...</td>\n",
       "      <td>0</td>\n",
       "      <td>0</td>\n",
       "      <td>0</td>\n",
       "      <td>0</td>\n",
       "      <td>0</td>\n",
       "      <td>0</td>\n",
       "      <td>0</td>\n",
       "      <td>0</td>\n",
       "      <td>0</td>\n",
       "      <td>0</td>\n",
       "    </tr>\n",
       "    <tr>\n",
       "      <td>450961</td>\n",
       "      <td>0.033</td>\n",
       "      <td>62.0</td>\n",
       "      <td>58.0</td>\n",
       "      <td>29.73</td>\n",
       "      <td>10.0</td>\n",
       "      <td>12.0</td>\n",
       "      <td>1</td>\n",
       "      <td>1</td>\n",
       "      <td>1</td>\n",
       "      <td>1</td>\n",
       "      <td>...</td>\n",
       "      <td>0</td>\n",
       "      <td>0</td>\n",
       "      <td>0</td>\n",
       "      <td>0</td>\n",
       "      <td>0</td>\n",
       "      <td>0</td>\n",
       "      <td>0</td>\n",
       "      <td>0</td>\n",
       "      <td>0</td>\n",
       "      <td>0</td>\n",
       "    </tr>\n",
       "    <tr>\n",
       "      <td>896600</td>\n",
       "      <td>0.000</td>\n",
       "      <td>84.0</td>\n",
       "      <td>13.0</td>\n",
       "      <td>28.42</td>\n",
       "      <td>10.0</td>\n",
       "      <td>12.0</td>\n",
       "      <td>1</td>\n",
       "      <td>1</td>\n",
       "      <td>1</td>\n",
       "      <td>1</td>\n",
       "      <td>...</td>\n",
       "      <td>0</td>\n",
       "      <td>0</td>\n",
       "      <td>0</td>\n",
       "      <td>0</td>\n",
       "      <td>0</td>\n",
       "      <td>0</td>\n",
       "      <td>0</td>\n",
       "      <td>0</td>\n",
       "      <td>0</td>\n",
       "      <td>0</td>\n",
       "    </tr>\n",
       "  </tbody>\n",
       "</table>\n",
       "<p>5 rows × 53 columns</p>\n",
       "</div>"
      ],
      "text/plain": [
       "         Distance(mi)  Temperature(F)  Humidity(%)  Pressure(in)  \\\n",
       "215796          0.000            89.1         42.0         30.06   \n",
       "1134658         5.669            58.0         51.0         23.36   \n",
       "799091          0.000            85.0         19.0         28.61   \n",
       "450961          0.033            62.0         58.0         29.73   \n",
       "896600          0.000            84.0         13.0         28.42   \n",
       "\n",
       "         Visibility(mi)  Wind_Speed(mph)  Amenity  Bump  Crossing  Give_Way  \\\n",
       "215796             10.0              5.8        1     1         1         1   \n",
       "1134658            10.0              0.0        1     1         1         1   \n",
       "799091             10.0              0.0        1     1         1         1   \n",
       "450961             10.0             12.0        1     1         1         1   \n",
       "896600             10.0             12.0        1     1         1         1   \n",
       "\n",
       "         ...  Weather_Condition_Cloudy  Weather_Condition_Fog  \\\n",
       "215796   ...                         0                      0   \n",
       "1134658  ...                         1                      0   \n",
       "799091   ...                         0                      0   \n",
       "450961   ...                         0                      0   \n",
       "896600   ...                         0                      0   \n",
       "\n",
       "         Weather_Condition_Hail  Weather_Condition_Rain  \\\n",
       "215796                        0                       0   \n",
       "1134658                       0                       0   \n",
       "799091                        0                       0   \n",
       "450961                        0                       0   \n",
       "896600                        0                       0   \n",
       "\n",
       "         Weather_Condition_Sand  Weather_Condition_Smoke  \\\n",
       "215796                        0                        0   \n",
       "1134658                       0                        0   \n",
       "799091                        0                        0   \n",
       "450961                        0                        0   \n",
       "896600                        0                        0   \n",
       "\n",
       "         Weather_Condition_Snow  Weather_Condition_Thunderstorm  \\\n",
       "215796                        0                               0   \n",
       "1134658                       0                               0   \n",
       "799091                        0                               0   \n",
       "450961                        0                               0   \n",
       "896600                        0                               0   \n",
       "\n",
       "         Weather_Condition_Tornado  Weather_Condition_Windy  \n",
       "215796                           0                        0  \n",
       "1134658                          0                        0  \n",
       "799091                           0                        0  \n",
       "450961                           0                        0  \n",
       "896600                           0                        0  \n",
       "\n",
       "[5 rows x 53 columns]"
      ]
     },
     "execution_count": 129,
     "metadata": {},
     "output_type": "execute_result"
    }
   ],
   "source": [
    "from sklearn.model_selection import train_test_split\n",
    "train, test, target_train, target_test = train_test_split(df_numeric, df_target, test_size=0.2, random_state=33)\n",
    "\n",
    "print (test.shape)\n",
    "test[0:5]"
   ]
  },
  {
   "cell_type": "markdown",
   "id": "54e5137e",
   "metadata": {},
   "source": [
    "### Use scikit-learn's KNN implementation for classification.\n",
    "#### First normalize the data so that all attributes are in the same scale (normalize so that the values are between 0 and 1). "
   ]
  },
  {
   "cell_type": "code",
   "execution_count": 130,
   "id": "d71a505a",
   "metadata": {},
   "outputs": [],
   "source": [
    "from sklearn import preprocessing"
   ]
  },
  {
   "cell_type": "code",
   "execution_count": 131,
   "id": "b3bf2ccb",
   "metadata": {},
   "outputs": [],
   "source": [
    "min_max_scaler = preprocessing.MinMaxScaler().fit(train)\n",
    "train_norm = min_max_scaler.transform(train)\n",
    "test_norm = min_max_scaler.transform(test)"
   ]
  },
  {
   "cell_type": "code",
   "execution_count": 132,
   "id": "ab4d2265",
   "metadata": {},
   "outputs": [
    {
     "data": {
      "text/plain": [
       "array([[0.02, 0.51, 0.93, 0.96, 0.07, 0.03, 0.  , 0.  , 0.  , 0.  , 0.  ,\n",
       "        0.  , 0.  , 0.  , 0.  , 0.  , 0.  , 0.  , 1.  , 0.91, 0.25, 0.  ,\n",
       "        0.63, 0.  , 0.  , 1.  , 0.  , 0.  , 0.  , 0.  , 0.  , 0.  , 0.  ,\n",
       "        0.  , 0.  , 0.  , 0.  , 0.  , 0.  , 0.  , 0.  , 0.  , 0.  , 1.  ,\n",
       "        0.  , 0.  , 0.  , 0.  , 0.  , 0.  , 0.  , 0.  , 0.  ],\n",
       "       [0.  , 0.74, 0.79, 0.95, 0.08, 0.04, 0.  , 0.  , 0.  , 0.  , 0.  ,\n",
       "        0.  , 0.  , 0.  , 0.  , 0.  , 0.  , 0.  , 0.  , 0.55, 1.  , 0.74,\n",
       "        0.7 , 0.33, 0.  , 0.  , 0.  , 0.  , 0.  , 0.  , 0.  , 0.  , 0.  ,\n",
       "        0.  , 0.  , 0.  , 0.  , 0.  , 1.  , 0.  , 0.  , 0.  , 1.  , 0.  ,\n",
       "        0.  , 0.  , 0.  , 0.  , 0.  , 0.  , 0.  , 0.  , 0.  ],\n",
       "       [0.01, 0.73, 0.5 , 0.97, 0.08, 0.07, 0.  , 0.  , 0.  , 0.  , 0.  ,\n",
       "        0.  , 0.  , 0.  , 0.  , 0.  , 0.  , 0.  , 0.  , 0.64, 0.5 , 0.7 ,\n",
       "        0.73, 0.5 , 0.  , 0.  , 0.  , 0.  , 1.  , 0.  , 0.  , 0.  , 0.  ,\n",
       "        0.  , 0.  , 0.  , 0.  , 0.  , 0.  , 0.  , 0.  , 0.  , 1.  , 0.  ,\n",
       "        0.  , 0.  , 0.  , 0.  , 0.  , 0.  , 0.  , 0.  , 0.  ],\n",
       "       [0.01, 0.74, 0.59, 0.97, 0.08, 0.05, 0.  , 0.  , 0.  , 0.  , 0.  ,\n",
       "        0.  , 0.  , 0.  , 0.  , 0.  , 0.  , 0.  , 0.  , 0.27, 0.75, 0.57,\n",
       "        0.97, 0.17, 0.  , 0.  , 0.  , 0.  , 0.  , 0.  , 0.  , 0.  , 0.  ,\n",
       "        0.  , 0.  , 0.  , 0.  , 0.  , 0.  , 0.  , 1.  , 0.  , 1.  , 0.  ,\n",
       "        0.  , 0.  , 0.  , 0.  , 0.  , 0.  , 0.  , 0.  , 0.  ],\n",
       "       [0.01, 0.64, 0.84, 0.97, 0.08, 0.04, 0.  , 0.  , 0.  , 0.  , 0.  ,\n",
       "        0.  , 0.  , 0.  , 0.  , 0.  , 0.  , 0.  , 0.  , 0.45, 0.5 , 0.26,\n",
       "        0.37, 0.17, 0.  , 0.  , 0.  , 0.  , 0.  , 0.  , 0.  , 0.  , 0.  ,\n",
       "        0.  , 1.  , 0.  , 0.  , 0.  , 0.  , 0.  , 0.  , 0.  , 0.  , 1.  ,\n",
       "        0.  , 0.  , 0.  , 0.  , 0.  , 0.  , 0.  , 0.  , 0.  ]])"
      ]
     },
     "execution_count": 132,
     "metadata": {},
     "output_type": "execute_result"
    }
   ],
   "source": [
    "np.set_printoptions(precision=2, linewidth=80, suppress=True)\n",
    "train_norm[0:5]"
   ]
  },
  {
   "cell_type": "code",
   "execution_count": 133,
   "id": "06288972",
   "metadata": {},
   "outputs": [
    {
     "data": {
      "text/plain": [
       "array([[0.  , 0.8 , 0.41, 0.97, 0.08, 0.04, 0.  , 0.  , 0.  , 0.  , 0.  ,\n",
       "        0.  , 0.  , 0.  , 0.  , 0.  , 0.  , 0.  , 0.  , 0.45, 0.25, 0.43,\n",
       "        0.37, 0.  , 0.  , 0.  , 0.  , 0.  , 0.  , 0.  , 0.  , 0.  , 0.  ,\n",
       "        0.  , 0.  , 0.  , 0.  , 0.  , 0.  , 1.  , 0.  , 0.  , 1.  , 0.  ,\n",
       "        0.  , 0.  , 0.  , 0.  , 0.  , 0.  , 0.  , 0.  , 0.  ],\n",
       "       [0.04, 0.59, 0.5 , 0.75, 0.08, 0.  , 0.  , 0.  , 0.  , 0.  , 0.  ,\n",
       "        0.  , 0.  , 0.  , 0.  , 0.  , 0.  , 0.  , 0.  , 0.73, 0.75, 0.43,\n",
       "        0.73, 0.  , 1.  , 0.  , 0.  , 0.  , 0.  , 0.  , 0.  , 0.  , 0.  ,\n",
       "        0.  , 0.  , 0.  , 0.  , 0.  , 0.  , 0.  , 0.  , 0.  , 0.  , 1.  ,\n",
       "        0.  , 0.  , 0.  , 0.  , 0.  , 0.  , 0.  , 0.  , 0.  ],\n",
       "       [0.  , 0.78, 0.17, 0.92, 0.08, 0.  , 0.  , 0.  , 0.  , 0.  , 0.  ,\n",
       "        0.  , 0.  , 0.  , 0.  , 0.  , 0.  , 0.  , 0.  , 0.45, 1.  , 0.3 ,\n",
       "        0.8 , 0.5 , 1.  , 0.  , 0.  , 0.  , 0.  , 0.  , 0.  , 0.  , 0.  ,\n",
       "        0.  , 0.  , 0.  , 0.  , 0.  , 0.  , 0.  , 0.  , 0.  , 1.  , 0.  ,\n",
       "        0.  , 0.  , 0.  , 0.  , 0.  , 0.  , 0.  , 0.  , 0.  ],\n",
       "       [0.  , 0.62, 0.57, 0.96, 0.08, 0.09, 0.  , 0.  , 0.  , 0.  , 0.  ,\n",
       "        0.  , 0.  , 0.  , 0.  , 0.  , 0.  , 0.  , 0.  , 1.  , 1.  , 0.7 ,\n",
       "        0.2 , 0.  , 0.  , 0.  , 0.  , 0.  , 0.  , 0.  , 0.  , 0.  , 0.  ,\n",
       "        0.  , 0.  , 0.  , 0.  , 0.  , 0.  , 1.  , 0.  , 0.  , 1.  , 0.  ,\n",
       "        0.  , 0.  , 0.  , 0.  , 0.  , 0.  , 0.  , 0.  , 0.  ],\n",
       "       [0.  , 0.77, 0.11, 0.92, 0.08, 0.09, 0.  , 0.  , 0.  , 0.  , 0.  ,\n",
       "        0.  , 0.  , 0.  , 0.  , 0.  , 0.  , 0.  , 0.  , 0.27, 1.  , 0.78,\n",
       "        0.13, 1.  , 0.  , 0.  , 0.  , 0.  , 0.  , 0.  , 0.  , 0.  , 0.  ,\n",
       "        0.  , 0.  , 0.  , 0.  , 1.  , 0.  , 0.  , 0.  , 0.  , 1.  , 0.  ,\n",
       "        0.  , 0.  , 0.  , 0.  , 0.  , 0.  , 0.  , 0.  , 0.  ]])"
      ]
     },
     "execution_count": 133,
     "metadata": {},
     "output_type": "execute_result"
    }
   ],
   "source": [
    "test_norm[0:5]"
   ]
  },
  {
   "cell_type": "markdown",
   "id": "89bf0ab6",
   "metadata": {},
   "source": [
    "#### Run your KNN classifier using K=10. "
   ]
  },
  {
   "cell_type": "code",
   "execution_count": 134,
   "id": "45fcb70a",
   "metadata": {},
   "outputs": [],
   "source": [
    "from sklearn import neighbors"
   ]
  },
  {
   "cell_type": "code",
   "execution_count": 135,
   "id": "307119c2",
   "metadata": {},
   "outputs": [
    {
     "data": {
      "text/plain": [
       "KNeighborsClassifier(algorithm='auto', leaf_size=30, metric='minkowski',\n",
       "                     metric_params=None, n_jobs=None, n_neighbors=10, p=2,\n",
       "                     weights='distance')"
      ]
     },
     "execution_count": 135,
     "metadata": {},
     "output_type": "execute_result"
    }
   ],
   "source": [
    "n_neighbors = 10\n",
    "\n",
    "knnclf = neighbors.KNeighborsClassifier(n_neighbors, weights='distance')\n",
    "knnclf.fit(train_norm, target_train)"
   ]
  },
  {
   "cell_type": "code",
   "execution_count": 39,
   "id": "78a1e607",
   "metadata": {},
   "outputs": [],
   "source": [
    "knnpreds_test = knnclf.predict(test_norm)"
   ]
  },
  {
   "cell_type": "code",
   "execution_count": 40,
   "id": "62bdd266",
   "metadata": {},
   "outputs": [
    {
     "name": "stdout",
     "output_type": "stream",
     "text": [
      "[3 3 1 ... 4 4 2]\n"
     ]
    }
   ],
   "source": [
    "print (knnpreds_test)"
   ]
  },
  {
   "cell_type": "code",
   "execution_count": 41,
   "id": "069ec566",
   "metadata": {},
   "outputs": [
    {
     "data": {
      "text/plain": [
       "array([1, 2, 3, 4])"
      ]
     },
     "execution_count": 41,
     "metadata": {},
     "output_type": "execute_result"
    }
   ],
   "source": [
    "np.unique(knnpreds_test)"
   ]
  },
  {
   "cell_type": "code",
   "execution_count": 42,
   "id": "a2b788e2",
   "metadata": {},
   "outputs": [],
   "source": [
    "from sklearn.metrics import confusion_matrix"
   ]
  },
  {
   "cell_type": "code",
   "execution_count": 43,
   "id": "c0023392",
   "metadata": {},
   "outputs": [
    {
     "name": "stdout",
     "output_type": "stream",
     "text": [
      "[[5381   54  246   58]\n",
      " [ 547 3245  944  872]\n",
      " [ 900  631 2481 1644]\n",
      " [ 457  836 1415 2832]]\n"
     ]
    }
   ],
   "source": [
    "knncm = confusion_matrix(target_test, knnpreds_test)\n",
    "print (knncm)"
   ]
  },
  {
   "cell_type": "code",
   "execution_count": 44,
   "id": "2dc9695a",
   "metadata": {},
   "outputs": [],
   "source": [
    "from sklearn.metrics import classification_report"
   ]
  },
  {
   "cell_type": "code",
   "execution_count": 45,
   "id": "3549d9c3",
   "metadata": {},
   "outputs": [
    {
     "name": "stdout",
     "output_type": "stream",
     "text": [
      "              precision    recall  f1-score   support\n",
      "\n",
      "           1       0.74      0.94      0.83      5739\n",
      "           2       0.68      0.58      0.63      5608\n",
      "           3       0.49      0.44      0.46      5656\n",
      "           4       0.52      0.51      0.52      5540\n",
      "\n",
      "    accuracy                           0.62     22543\n",
      "   macro avg       0.61      0.62      0.61     22543\n",
      "weighted avg       0.61      0.62      0.61     22543\n",
      "\n"
     ]
    }
   ],
   "source": [
    "print(classification_report(target_test, knnpreds_test))"
   ]
  },
  {
   "cell_type": "code",
   "execution_count": 46,
   "id": "2acdead8",
   "metadata": {},
   "outputs": [
    {
     "name": "stdout",
     "output_type": "stream",
     "text": [
      "0.9976044982200091\n"
     ]
    }
   ],
   "source": [
    "print (knnclf.score(train_norm, target_train))"
   ]
  },
  {
   "cell_type": "code",
   "execution_count": 47,
   "id": "0e244b3b",
   "metadata": {},
   "outputs": [
    {
     "name": "stdout",
     "output_type": "stream",
     "text": [
      "0.6183294148959766\n"
     ]
    }
   ],
   "source": [
    "print (knnclf.score(test_norm, target_test))"
   ]
  },
  {
   "cell_type": "code",
   "execution_count": 48,
   "id": "78846993",
   "metadata": {},
   "outputs": [],
   "source": [
    "Distance = []\n",
    "Uniform = []"
   ]
  },
  {
   "cell_type": "code",
   "execution_count": 49,
   "id": "ff8dfec8",
   "metadata": {},
   "outputs": [
    {
     "name": "stdout",
     "output_type": "stream",
     "text": [
      "CPU times: user 7min 1s, sys: 1.45 s, total: 7min 2s\n",
      "Wall time: 6min 51s\n"
     ]
    }
   ],
   "source": [
    "%%time\n",
    "\n",
    "for K in range(5, 100, 5):\n",
    "    knnclf = neighbors.KNeighborsClassifier(K, weights='distance')\n",
    "    knnclf.fit(train_norm, target_train)\n",
    "    Distance.append(knnclf.score(test_norm, target_test))"
   ]
  },
  {
   "cell_type": "code",
   "execution_count": 50,
   "id": "8d783788",
   "metadata": {},
   "outputs": [
    {
     "name": "stdout",
     "output_type": "stream",
     "text": [
      "CPU times: user 7min 10s, sys: 1.09 s, total: 7min 12s\n",
      "Wall time: 7min 1s\n"
     ]
    }
   ],
   "source": [
    "%%time\n",
    "\n",
    "for K in range(5, 100, 5):\n",
    "    knnclf = neighbors.KNeighborsClassifier(K, weights='uniform')\n",
    "    knnclf.fit(train_norm, target_train)\n",
    "    Uniform.append(knnclf.score(test_norm, target_test))"
   ]
  },
  {
   "cell_type": "code",
   "execution_count": 51,
   "id": "b35d5a13",
   "metadata": {},
   "outputs": [
    {
     "data": {
      "image/png": "[encoded data removed]",
      "text/plain": [
       "<Figure size 432x288 with 1 Axes>"
      ]
     },
     "metadata": {
      "needs_background": "light"
     },
     "output_type": "display_data"
    }
   ],
   "source": [
    "import matplotlib.pyplot as plt\n",
    "  \n",
    "# Ks\n",
    "Ks = np.arange(5, 100, 5)\n",
    "  \n",
    "# plot lines\n",
    "plt.plot(Ks, Distance, label = \"Distance Weighting Scheme\", linestyle = 'dashed', marker = 'd')\n",
    "plt.plot(Ks, Uniform, label = \"Uniform Weighting Scheme\", marker = 'd')\n",
    "plt.title('KNN Classifier Accuracy')\n",
    "plt.xlabel('K')\n",
    "plt.ylabel('Accuracy')\n",
    "plt.grid(linestyle = 'dashed')\n",
    "plt.legend()\n",
    "plt.show()"
   ]
  },
  {
   "cell_type": "code",
   "execution_count": 52,
   "id": "f47bc4cc",
   "metadata": {},
   "outputs": [
    {
     "data": {
      "text/plain": [
       "KNeighborsClassifier(algorithm='auto', leaf_size=30, metric='minkowski',\n",
       "                     metric_params=None, n_jobs=None, n_neighbors=10, p=2,\n",
       "                     weights='uniform')"
      ]
     },
     "execution_count": 52,
     "metadata": {},
     "output_type": "execute_result"
    }
   ],
   "source": [
    "n_neighbors = 10\n",
    "\n",
    "knnclf = neighbors.KNeighborsClassifier(n_neighbors, weights='uniform')\n",
    "knnclf.fit(train_norm, target_train)"
   ]
  },
  {
   "cell_type": "code",
   "execution_count": 53,
   "id": "66c8299e",
   "metadata": {},
   "outputs": [
    {
     "name": "stdout",
     "output_type": "stream",
     "text": [
      "0.6555689871241779\n"
     ]
    }
   ],
   "source": [
    "print (knnclf.score(train_norm, target_train))"
   ]
  },
  {
   "cell_type": "code",
   "execution_count": 54,
   "id": "03f1d32f",
   "metadata": {},
   "outputs": [
    {
     "name": "stdout",
     "output_type": "stream",
     "text": [
      "0.5854145410992326\n"
     ]
    }
   ],
   "source": [
    "print (knnclf.score(test_norm, target_test))"
   ]
  },
  {
   "cell_type": "markdown",
   "id": "8615def6",
   "metadata": {},
   "source": [
    "#### Next, using only \"uniform\" weights, compare the accuracy of the KNN classifier across the different values of K on the training and the test data. "
   ]
  },
  {
   "cell_type": "code",
   "execution_count": 55,
   "id": "8f5ea769",
   "metadata": {},
   "outputs": [],
   "source": [
    "Accuracy_train = []\n",
    "Accuracy_test = []"
   ]
  },
  {
   "cell_type": "code",
   "execution_count": 56,
   "id": "506c6bd1",
   "metadata": {},
   "outputs": [
    {
     "name": "stdout",
     "output_type": "stream",
     "text": [
      "CPU times: user 25min 50s, sys: 4.38 s, total: 25min 55s\n",
      "Wall time: 26min 22s\n"
     ]
    }
   ],
   "source": [
    "%%time\n",
    "\n",
    "for K in range(5, 100, 5):\n",
    "    knnclf = neighbors.KNeighborsClassifier(K, weights='uniform')\n",
    "    knnclf.fit(train_norm, target_train)\n",
    "    Accuracy_train.append(knnclf.score(train_norm, target_train))"
   ]
  },
  {
   "cell_type": "code",
   "execution_count": 57,
   "id": "950d0dbf",
   "metadata": {},
   "outputs": [
    {
     "name": "stdout",
     "output_type": "stream",
     "text": [
      "CPU times: user 6min 53s, sys: 1.99 s, total: 6min 55s\n",
      "Wall time: 6min 46s\n"
     ]
    }
   ],
   "source": [
    "%%time\n",
    "\n",
    "for K in range(5, 100, 5):\n",
    "    knnclf = neighbors.KNeighborsClassifier(K, weights='uniform')\n",
    "    knnclf.fit(train_norm, target_train)\n",
    "    Accuracy_test.append(knnclf.score(test_norm, target_test))"
   ]
  },
  {
   "cell_type": "code",
   "execution_count": 58,
   "id": "009b124d",
   "metadata": {},
   "outputs": [
    {
     "data": {
      "image/png": "[encoded data removed]",
      "text/plain": [
       "<Figure size 432x288 with 1 Axes>"
      ]
     },
     "metadata": {
      "needs_background": "light"
     },
     "output_type": "display_data"
    }
   ],
   "source": [
    "# Ks\n",
    "Ks = np.arange(5, 100, 5)\n",
    "  \n",
    "# plot lines\n",
    "plt.plot(Ks, Accuracy_train, label = \"Training Accuracy\", linestyle = 'dashed', marker = 'd')\n",
    "plt.plot(Ks, Accuracy_test, label = \"Testing Accuracy\", marker = 'd')\n",
    "plt.title('KNN Classifier Accuracy')\n",
    "plt.xlabel('K')\n",
    "plt.ylabel('Accuracy')\n",
    "plt.grid(linestyle = 'dashed')\n",
    "plt.legend()\n",
    "plt.show()"
   ]
  },
  {
   "cell_type": "markdown",
   "id": "81f3471c",
   "metadata": {},
   "source": [
    "### Using the non-normalized training and test data, perform classification using scikit-learn's decision tree classifier (using the default parameters). "
   ]
  },
  {
   "cell_type": "code",
   "execution_count": 136,
   "id": "5a06ace7",
   "metadata": {},
   "outputs": [],
   "source": [
    "from sklearn import tree"
   ]
  },
  {
   "cell_type": "code",
   "execution_count": 137,
   "id": "51afff63",
   "metadata": {},
   "outputs": [],
   "source": [
    "treeclf = tree.DecisionTreeClassifier()\n",
    "treeclf = treeclf.fit(train, target_train)"
   ]
  },
  {
   "cell_type": "code",
   "execution_count": 138,
   "id": "30d51f89",
   "metadata": {},
   "outputs": [
    {
     "name": "stdout",
     "output_type": "stream",
     "text": [
      "[3 2 1 ... 4 3 2]\n"
     ]
    }
   ],
   "source": [
    "treepreds_test = treeclf.predict(test)\n",
    "print (treepreds_test)"
   ]
  },
  {
   "cell_type": "code",
   "execution_count": 139,
   "id": "f7540305",
   "metadata": {},
   "outputs": [
    {
     "data": {
      "text/plain": [
       "array([1, 2, 3, 4])"
      ]
     },
     "execution_count": 139,
     "metadata": {},
     "output_type": "execute_result"
    }
   ],
   "source": [
    "np.unique(treepreds_test)"
   ]
  },
  {
   "cell_type": "markdown",
   "id": "3318f9f4",
   "metadata": {},
   "source": [
    "As above, generate the confusion matrix, classification report, and average accuracy scores of the classifier. Compare the average accuracy score on the test and the training data sets."
   ]
  },
  {
   "cell_type": "code",
   "execution_count": 140,
   "id": "476215f4",
   "metadata": {},
   "outputs": [
    {
     "name": "stdout",
     "output_type": "stream",
     "text": [
      "[[4844  286  453  156]\n",
      " [ 330 3297  960 1021]\n",
      " [ 477  958 2597 1624]\n",
      " [ 166  994 1445 2935]]\n"
     ]
    }
   ],
   "source": [
    "treecm = confusion_matrix(target_test, treepreds_test)\n",
    "print (treecm)"
   ]
  },
  {
   "cell_type": "code",
   "execution_count": 141,
   "id": "3a62b400",
   "metadata": {},
   "outputs": [
    {
     "name": "stdout",
     "output_type": "stream",
     "text": [
      "              precision    recall  f1-score   support\n",
      "\n",
      "           1       0.83      0.84      0.84      5739\n",
      "           2       0.60      0.59      0.59      5608\n",
      "           3       0.48      0.46      0.47      5656\n",
      "           4       0.51      0.53      0.52      5540\n",
      "\n",
      "    accuracy                           0.61     22543\n",
      "   macro avg       0.60      0.61      0.60     22543\n",
      "weighted avg       0.61      0.61      0.61     22543\n",
      "\n"
     ]
    }
   ],
   "source": [
    "print(classification_report(target_test, treepreds_test))"
   ]
  },
  {
   "cell_type": "code",
   "execution_count": 142,
   "id": "7ca5db04",
   "metadata": {},
   "outputs": [
    {
     "name": "stdout",
     "output_type": "stream",
     "text": [
      "0.9977264913662124\n"
     ]
    }
   ],
   "source": [
    "print (treeclf.score(train, target_train))"
   ]
  },
  {
   "cell_type": "code",
   "execution_count": 143,
   "id": "77208e44",
   "metadata": {},
   "outputs": [
    {
     "name": "stdout",
     "output_type": "stream",
     "text": [
      "0.6065297431575212\n"
     ]
    }
   ],
   "source": [
    "print (treeclf.score(test, target_test))"
   ]
  },
  {
   "cell_type": "markdown",
   "id": "20ad7358",
   "metadata": {},
   "source": [
    "### Naïve Bayese"
   ]
  },
  {
   "cell_type": "markdown",
   "id": "971cb160",
   "metadata": {},
   "source": [
    "Use scikit-learn to build classifiers using Naive Bayes (Gaussian)"
   ]
  },
  {
   "cell_type": "code",
   "execution_count": 72,
   "id": "fece8a9d",
   "metadata": {},
   "outputs": [],
   "source": [
    "from sklearn import naive_bayes"
   ]
  },
  {
   "cell_type": "code",
   "execution_count": 74,
   "id": "36303ac6",
   "metadata": {},
   "outputs": [
    {
     "name": "stdout",
     "output_type": "stream",
     "text": [
      "[3 3 1 ... 2 2 2]\n"
     ]
    }
   ],
   "source": [
    "nbclf = naive_bayes.GaussianNB()\n",
    "nbclf = nbclf.fit(train, target_train)\n",
    "nbpreds_test = nbclf.predict(test)\n",
    "print (nbpreds_test)"
   ]
  },
  {
   "cell_type": "code",
   "execution_count": 75,
   "id": "6fb60f74",
   "metadata": {},
   "outputs": [
    {
     "name": "stdout",
     "output_type": "stream",
     "text": [
      "0.5292284488016946\n"
     ]
    }
   ],
   "source": [
    "print (nbclf.score(train, target_train))"
   ]
  },
  {
   "cell_type": "code",
   "execution_count": 76,
   "id": "a0c1b2a7",
   "metadata": {},
   "outputs": [
    {
     "name": "stdout",
     "output_type": "stream",
     "text": [
      "0.533203211639977\n"
     ]
    }
   ],
   "source": [
    "print (nbclf.score(test, target_test))"
   ]
  },
  {
   "cell_type": "markdown",
   "id": "feeda8de",
   "metadata": {},
   "source": [
    "### Linear discriminat analysis"
   ]
  },
  {
   "cell_type": "code",
   "execution_count": 77,
   "id": "5231ed39",
   "metadata": {},
   "outputs": [
    {
     "name": "stdout",
     "output_type": "stream",
     "text": [
      "[3 3 1 ... 4 4 2]\n"
     ]
    },
    {
     "name": "stderr",
     "output_type": "stream",
     "text": [
      "/Users/dhan/opt/anaconda3/lib/python3.7/site-packages/sklearn/discriminant_analysis.py:388: UserWarning: Variables are collinear.\n",
      "  warnings.warn(\"Variables are collinear.\")\n"
     ]
    }
   ],
   "source": [
    "from sklearn.discriminant_analysis import LinearDiscriminantAnalysis\n",
    "\n",
    "ldclf = LinearDiscriminantAnalysis()\n",
    "ldclf = ldclf.fit(train, target_train)\n",
    "ldpreds_test = ldclf.predict(test)\n",
    "print (ldpreds_test)"
   ]
  },
  {
   "cell_type": "code",
   "execution_count": 78,
   "id": "79274579",
   "metadata": {},
   "outputs": [
    {
     "name": "stdout",
     "output_type": "stream",
     "text": [
      "0.5447992103716355\n"
     ]
    }
   ],
   "source": [
    "print (ldclf.score(train, target_train))"
   ]
  },
  {
   "cell_type": "code",
   "execution_count": 79,
   "id": "24fb4a38",
   "metadata": {},
   "outputs": [
    {
     "name": "stdout",
     "output_type": "stream",
     "text": [
      "0.5412323115823093\n"
     ]
    }
   ],
   "source": [
    "print (ldclf.score(test, target_test))"
   ]
  },
  {
   "cell_type": "markdown",
   "id": "142b68ca",
   "metadata": {},
   "source": [
    "For each of these perform 10-fold cross-validation on the 80% training data (using cross-validation module in scikit-learn) and report the overall average accuracy. Compare this cross-validation accuracy to the model accuracy on the training data as a whole."
   ]
  },
  {
   "cell_type": "code",
   "execution_count": 81,
   "id": "fc14e3d4",
   "metadata": {},
   "outputs": [],
   "source": [
    "from sklearn import model_selection"
   ]
  },
  {
   "cell_type": "code",
   "execution_count": 82,
   "id": "17d70d82",
   "metadata": {},
   "outputs": [
    {
     "data": {
      "text/plain": [
       "array([0.53, 0.53, 0.53, 0.53, 0.53, 0.53, 0.53, 0.53, 0.52, 0.53])"
      ]
     },
     "execution_count": 82,
     "metadata": {},
     "output_type": "execute_result"
    }
   ],
   "source": [
    "nb_scores = model_selection.cross_val_score(nbclf, train, target_train, cv=10)\n",
    "nb_scores"
   ]
  },
  {
   "cell_type": "code",
   "execution_count": 83,
   "id": "547334e0",
   "metadata": {},
   "outputs": [
    {
     "name": "stdout",
     "output_type": "stream",
     "text": [
      "Overall Accuracy: 0.53 (+/- 0.01)\n"
     ]
    }
   ],
   "source": [
    "print(\"Overall Accuracy: %0.2f (+/- %0.2f)\" % (nb_scores.mean(), nb_scores.std() * 2))"
   ]
  },
  {
   "cell_type": "code",
   "execution_count": 84,
   "id": "7a3fdb27",
   "metadata": {},
   "outputs": [
    {
     "name": "stderr",
     "output_type": "stream",
     "text": [
      "/Users/dhan/opt/anaconda3/lib/python3.7/site-packages/sklearn/discriminant_analysis.py:388: UserWarning: Variables are collinear.\n",
      "  warnings.warn(\"Variables are collinear.\")\n",
      "/Users/dhan/opt/anaconda3/lib/python3.7/site-packages/sklearn/discriminant_analysis.py:388: UserWarning: Variables are collinear.\n",
      "  warnings.warn(\"Variables are collinear.\")\n",
      "/Users/dhan/opt/anaconda3/lib/python3.7/site-packages/sklearn/discriminant_analysis.py:388: UserWarning: Variables are collinear.\n",
      "  warnings.warn(\"Variables are collinear.\")\n",
      "/Users/dhan/opt/anaconda3/lib/python3.7/site-packages/sklearn/discriminant_analysis.py:388: UserWarning: Variables are collinear.\n",
      "  warnings.warn(\"Variables are collinear.\")\n",
      "/Users/dhan/opt/anaconda3/lib/python3.7/site-packages/sklearn/discriminant_analysis.py:388: UserWarning: Variables are collinear.\n",
      "  warnings.warn(\"Variables are collinear.\")\n",
      "/Users/dhan/opt/anaconda3/lib/python3.7/site-packages/sklearn/discriminant_analysis.py:388: UserWarning: Variables are collinear.\n",
      "  warnings.warn(\"Variables are collinear.\")\n",
      "/Users/dhan/opt/anaconda3/lib/python3.7/site-packages/sklearn/discriminant_analysis.py:388: UserWarning: Variables are collinear.\n",
      "  warnings.warn(\"Variables are collinear.\")\n",
      "/Users/dhan/opt/anaconda3/lib/python3.7/site-packages/sklearn/discriminant_analysis.py:388: UserWarning: Variables are collinear.\n",
      "  warnings.warn(\"Variables are collinear.\")\n",
      "/Users/dhan/opt/anaconda3/lib/python3.7/site-packages/sklearn/discriminant_analysis.py:388: UserWarning: Variables are collinear.\n",
      "  warnings.warn(\"Variables are collinear.\")\n",
      "/Users/dhan/opt/anaconda3/lib/python3.7/site-packages/sklearn/discriminant_analysis.py:388: UserWarning: Variables are collinear.\n",
      "  warnings.warn(\"Variables are collinear.\")\n"
     ]
    },
    {
     "data": {
      "text/plain": [
       "array([0.55, 0.54, 0.54, 0.55, 0.55, 0.55, 0.55, 0.54, 0.54, 0.55])"
      ]
     },
     "execution_count": 84,
     "metadata": {},
     "output_type": "execute_result"
    }
   ],
   "source": [
    "ld_scores = model_selection.cross_val_score(ldclf, train, target_train, cv=10)\n",
    "ld_scores"
   ]
  },
  {
   "cell_type": "code",
   "execution_count": 85,
   "id": "ebbc5f34",
   "metadata": {},
   "outputs": [
    {
     "name": "stdout",
     "output_type": "stream",
     "text": [
      "Overall Accuracy: 0.54 (+/- 0.01)\n"
     ]
    }
   ],
   "source": [
    "print(\"Overall Accuracy: %0.2f (+/- %0.2f)\" % (ld_scores.mean(), ld_scores.std() * 2))"
   ]
  },
  {
   "cell_type": "markdown",
   "id": "de4e0850",
   "metadata": {},
   "source": [
    "Finally, run the model on the set-aside 20% test data."
   ]
  },
  {
   "cell_type": "code",
   "execution_count": 86,
   "id": "946bf18e",
   "metadata": {},
   "outputs": [
    {
     "name": "stdout",
     "output_type": "stream",
     "text": [
      "0.533203211639977\n"
     ]
    }
   ],
   "source": [
    "print (nbclf.score(test, target_test))"
   ]
  },
  {
   "cell_type": "code",
   "execution_count": 88,
   "id": "6e8601a5",
   "metadata": {},
   "outputs": [
    {
     "name": "stdout",
     "output_type": "stream",
     "text": [
      "0.5412323115823093\n"
     ]
    }
   ],
   "source": [
    "print (ldclf.score(test, target_test))"
   ]
  },
  {
   "cell_type": "code",
   "execution_count": 144,
   "id": "89535d8a",
   "metadata": {},
   "outputs": [
    {
     "name": "stdout",
     "output_type": "stream",
     "text": [
      "0.6065297431575212\n"
     ]
    }
   ],
   "source": [
    "print (treeclf.score(test, target_test))"
   ]
  },
  {
   "cell_type": "markdown",
   "id": "ba936c37",
   "metadata": {},
   "source": [
    "Decisino tree method has the highest accuracy. "
   ]
  },
  {
   "cell_type": "markdown",
   "id": "c96ba65e",
   "metadata": {},
   "source": [
    "We can obtain summary results on how informative are each of the features in the data:"
   ]
  },
  {
   "cell_type": "code",
   "execution_count": 145,
   "id": "1eedc4f3",
   "metadata": {},
   "outputs": [
    {
     "name": "stdout",
     "output_type": "stream",
     "text": [
      "Feature Importances:\n",
      "[0.22 0.07 0.08 0.09 0.02 0.05 0.   0.   0.   0.   0.   0.   0.   0.   0.\n",
      " 0.   0.   0.   0.   0.11 0.1  0.05 0.06 0.03 0.01 0.   0.   0.   0.01 0.\n",
      " 0.   0.   0.   0.01 0.   0.   0.01 0.01 0.   0.01 0.   0.01 0.01 0.01 0.\n",
      " 0.   0.   0.   0.   0.   0.   0.   0.  ]\n"
     ]
    }
   ],
   "source": [
    "print(\"Feature Importances:\\n{}\".format(treeclf.feature_importances_))"
   ]
  },
  {
   "cell_type": "code",
   "execution_count": 148,
   "id": "abcea4c0",
   "metadata": {
    "scrolled": true
   },
   "outputs": [
    {
     "data": {
      "image/png": "[encoded data removed]",
      "text/plain": [
       "<Figure size 3600x2160 with 1 Axes>"
      ]
     },
     "metadata": {
      "needs_background": "light"
     },
     "output_type": "display_data"
    }
   ],
   "source": [
    "import pylab as plt\n",
    "%matplotlib inline\n",
    "\n",
    "def plot_feature_importances(model, n_features, feature_names):\n",
    "    plt.barh(range(n_features), model.feature_importances_, align='center')\n",
    "    plt.yticks(np.arange(n_features), feature_names)\n",
    "    plt.xlabel(\"Feature importance\")\n",
    "    plt.ylabel(\"Feature\")\n",
    "    plt.ylim(-1, n_features)\n",
    "plt.figure(figsize=(50, 30))\n",
    "plot_feature_importances(treeclf, len(df_numeric.columns), df_numeric.columns)"
   ]
  },
  {
   "cell_type": "markdown",
   "id": "76bc5be2",
   "metadata": {},
   "source": [
    "#### The above evaluation results indicate overfitting. Pruning the tree may help in reducing overfitting. Accuracy of training is 0.99. The accuracy of testing is 0.59. "
   ]
  },
  {
   "cell_type": "code",
   "execution_count": 149,
   "id": "0e7f0338",
   "metadata": {
    "scrolled": true
   },
   "outputs": [
    {
     "name": "stdout",
     "output_type": "stream",
     "text": [
      "[0.44 0.47 0.45 0.46 0.47]\n",
      "Overall Accuracy on X-Val: 0.46 (+/- 0.02)\n",
      "Accuracy on Training:  0.8956404085661369\n"
     ]
    }
   ],
   "source": [
    "treeclf = tree.DecisionTreeClassifier(criterion='entropy', min_samples_leaf=3)\n",
    "cv_scores = model_selection.cross_val_score(treeclf, df_numeric, df_target, cv=5)\n",
    "print (cv_scores)\n",
    "print(\"Overall Accuracy on X-Val: %0.2f (+/- %0.2f)\" % (cv_scores.mean(), cv_scores.std() * 2))\n",
    "\n",
    "treeclf = treeclf.fit(train, target_train)\n",
    "print (\"Accuracy on Training: \",  treeclf.score(train, target_train))"
   ]
  },
  {
   "cell_type": "code",
   "execution_count": null,
   "id": "5a57453d",
   "metadata": {},
   "outputs": [],
   "source": []
  },
  {
   "cell_type": "code",
   "execution_count": null,
   "id": "fffb5c5f",
   "metadata": {},
   "outputs": [],
   "source": []
  },
  {
   "cell_type": "code",
   "execution_count": 151,
   "id": "405f3e95",
   "metadata": {
    "scrolled": true
   },
   "outputs": [
    {
     "name": "stdout",
     "output_type": "stream",
     "text": [
      "[0.61 0.61 0.61 0.62 0.6 ]\n",
      "Overall Accuracy on X-Val: 0.61 (+/- 0.01)\n",
      "Accuracy on Training:  0.6064279297763089\n"
     ]
    }
   ],
   "source": [
    "treeclf = tree.DecisionTreeClassifier(criterion='entropy', max_depth=4)\n",
    "cv_scores = model_selection.cross_val_score(treeclf, df_numeric, df_target, cv=5)\n",
    "print (cv_scores)\n",
    "print(\"Overall Accuracy on X-Val: %0.2f (+/- %0.2f)\" % (cv_scores.mean(), cv_scores.std() * 2))\n",
    "\n",
    "treeclf = treeclf.fit(train, target_train)\n",
    "print (\"Accuracy on Training: \",  treeclf.score(train, target_train))"
   ]
  },
  {
   "cell_type": "code",
   "execution_count": 155,
   "id": "9cee6c31",
   "metadata": {},
   "outputs": [
    {
     "name": "stdout",
     "output_type": "stream",
     "text": [
      "[0.61 0.61 0.61 0.61 0.6 ]\n",
      "Overall Accuracy on X-Val: 0.61 (+/- 0.00)\n",
      "Accuracy on Training:  0.6097106544377779\n"
     ]
    }
   ],
   "source": [
    "treeclf = tree.DecisionTreeClassifier(criterion='gini', min_samples_leaf=3, max_depth=4)\n",
    "cv_scores = model_selection.cross_val_score(treeclf, df_numeric, df_target, cv=5)\n",
    "print (cv_scores)\n",
    "print(\"Overall Accuracy on X-Val: %0.2f (+/- %0.2f)\" % (cv_scores.mean(), cv_scores.std() * 2))\n",
    "\n",
    "treeclf = treeclf.fit(train, target_train)\n",
    "print (\"Accuracy on Training: \",  treeclf.score(train, target_train))"
   ]
  },
  {
   "cell_type": "code",
   "execution_count": 156,
   "id": "3b552c83",
   "metadata": {},
   "outputs": [
    {
     "name": "stdout",
     "output_type": "stream",
     "text": [
      "0.6111431486492481\n"
     ]
    }
   ],
   "source": [
    "print (treeclf.score(test, target_test))"
   ]
  },
  {
   "cell_type": "markdown",
   "id": "0ecc15d6",
   "metadata": {},
   "source": [
    "This \"gini\" is the best. And from the result we can see theere is no overfitting issuee. "
   ]
  },
  {
   "cell_type": "code",
   "execution_count": 154,
   "id": "96ada10b",
   "metadata": {},
   "outputs": [
    {
     "name": "stdout",
     "output_type": "stream",
     "text": [
      "              precision    recall  f1-score   support\n",
      "\n",
      "           1       0.83      0.84      0.84      5739\n",
      "           2       0.60      0.59      0.59      5608\n",
      "           3       0.48      0.46      0.47      5656\n",
      "           4       0.51      0.53      0.52      5540\n",
      "\n",
      "    accuracy                           0.61     22543\n",
      "   macro avg       0.60      0.61      0.60     22543\n",
      "weighted avg       0.61      0.61      0.61     22543\n",
      "\n"
     ]
    }
   ],
   "source": [
    "print(classification_report(target_test, treepreds_test))"
   ]
  },
  {
   "cell_type": "code",
   "execution_count": 157,
   "id": "934958db",
   "metadata": {},
   "outputs": [
    {
     "data": {
      "image/png": "[encoded data removed]",
      "text/plain": [
       "<Figure size 3600x2160 with 1 Axes>"
      ]
     },
     "metadata": {
      "needs_background": "light"
     },
     "output_type": "display_data"
    }
   ],
   "source": [
    "import pylab as plt\n",
    "%matplotlib inline\n",
    "\n",
    "def plot_feature_importances(model, n_features, feature_names):\n",
    "    plt.barh(range(n_features), model.feature_importances_, align='center')\n",
    "    plt.yticks(np.arange(n_features), feature_names)\n",
    "    plt.xlabel(\"Feature importance\")\n",
    "    plt.ylabel(\"Feature\")\n",
    "    plt.ylim(-1, n_features)\n",
    "plt.figure(figsize=(50, 30))\n",
    "plot_feature_importances(treeclf, len(df_numeric.columns), df_numeric.columns)"
   ]
  },
  {
   "cell_type": "markdown",
   "id": "36b9d2e3",
   "metadata": {},
   "source": [
    "From the results of the pruned tree, we concluded the most important feature is the distance (The length of the road extent affected by the accident.) to the severity level, then time-related features, like a year, day of the week, and weather variables like Pressure, also play important roles on the severity level, instead of visibility, that we may usually think is an important point to the accident. Pressure may affect people’s mental situation, which affects their behaviors. For this point, we need to further research in the future. \n"
   ]
  },
  {
   "cell_type": "markdown",
   "id": "c92c241b",
   "metadata": {},
   "source": [
    "Acknowledgements\n",
    "\n",
    "Moosavi, Sobhan, Mohammad Hossein Samavatian, Srinivasan Parthasarathy, and Rajiv Ramnath. “A Countrywide Traffic Accident Dataset.”, 2019.\n",
    "\n",
    "Moosavi, Sobhan, Mohammad Hossein Samavatian, Srinivasan Parthasarathy, Radu Teodorescu, and Rajiv Ramnath. \"Accident Risk Prediction based on Heterogeneous Sparse Data: New Dataset and Insights.\" In proceedings of the 27th ACM SIGSPATIAL International Conference on Advances in Geographic Information Systems, ACM, 2019."
   ]
  }
 ],
 "metadata": {
  "kernelspec": {
   "display_name": "Python 3 (ipykernel)",
   "language": "python",
   "name": "python3"
  },
  "language_info": {
   "codemirror_mode": {
    "name": "ipython",
    "version": 3
   },
   "file_extension": ".py",
   "mimetype": "text/x-python",
   "name": "python",
   "nbconvert_exporter": "python",
   "pygments_lexer": "ipython3",
   "version": "3.8.11"
  }
 },
 "nbformat": 4,
 "nbformat_minor": 5
}
